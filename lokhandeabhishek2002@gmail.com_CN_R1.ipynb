{
 "cells": [
  {
   "cell_type": "markdown",
   "id": "74dca3c1",
   "metadata": {},
   "source": [
    "## EXL EQ Case Study – PM2.5 Prediction \n"
   ]
  },
  {
   "cell_type": "markdown",
   "id": "0e3832da",
   "metadata": {},
   "source": [
    "Covid-19 has changed lives across the globe. As the world looks back over the past three years of crisis that has affected so many lives & livelihood, today the more pertinent question then becomes “Are we safe now?” However, one of the most critical public health crisis that demands urgent action today is the rapid growth in Air Pollution. “The air that keeps us alive is making us sick” – warn US experts. With the recently released 5th annual World Air Quality Report 2022, India became world’s 8th most polluted country with an annual average PM2.5 concentration which is 10 times more than the WHO’s recommended level. Key concern is the exposure of heavy concentration of lung-damaging micro-airborne particles called PM2.5. It has been linked to the development of chronic respiratory, cardiovascular, cerebrovascular diseases, lung cancer.\n"
   ]
  },
  {
   "cell_type": "markdown",
   "id": "dde0a81b",
   "metadata": {},
   "source": [
    "### Exploratory Data Analysis (EDA)"
   ]
  },
  {
   "cell_type": "code",
   "execution_count": 2,
   "id": "4beacaaf",
   "metadata": {},
   "outputs": [],
   "source": [
    "import pandas as pd\n",
    "import numpy as np\n",
    "import matplotlib.pyplot as plt\n",
    "import seaborn as sns\n",
    "from sklearn.metrics import mean_squared_error\n",
    "%matplotlib inline"
   ]
  },
  {
   "cell_type": "code",
   "execution_count": 3,
   "id": "e1dafbcb",
   "metadata": {},
   "outputs": [],
   "source": [
    "df=pd.read_csv('EXL_EQ_2023_Dataset.csv')"
   ]
  },
  {
   "cell_type": "code",
   "execution_count": 4,
   "id": "607d62a6",
   "metadata": {},
   "outputs": [
    {
     "data": {
      "text/html": [
       "<div>\n",
       "<style scoped>\n",
       "    .dataframe tbody tr th:only-of-type {\n",
       "        vertical-align: middle;\n",
       "    }\n",
       "\n",
       "    .dataframe tbody tr th {\n",
       "        vertical-align: top;\n",
       "    }\n",
       "\n",
       "    .dataframe thead th {\n",
       "        text-align: right;\n",
       "    }\n",
       "</style>\n",
       "<table border=\"1\" class=\"dataframe\">\n",
       "  <thead>\n",
       "    <tr style=\"text-align: right;\">\n",
       "      <th></th>\n",
       "      <th>PM2.5</th>\n",
       "      <th>NO</th>\n",
       "      <th>NO2</th>\n",
       "      <th>NOx</th>\n",
       "      <th>NH3</th>\n",
       "      <th>SO2</th>\n",
       "      <th>CO</th>\n",
       "      <th>Ozone</th>\n",
       "      <th>Benzene</th>\n",
       "      <th>Toluene</th>\n",
       "      <th>...</th>\n",
       "      <th>Installed Capacity of Power as of 2022(Megawatt)</th>\n",
       "      <th>Death Rate as of 2020(Per 1000)</th>\n",
       "      <th>CNG ONLY</th>\n",
       "      <th>DIESEL</th>\n",
       "      <th>DIESEL/HYBRID</th>\n",
       "      <th>ELECTRIC(BOV)</th>\n",
       "      <th>PETROL</th>\n",
       "      <th>PETROL/CNG</th>\n",
       "      <th>PETROL/HYBRID</th>\n",
       "      <th>Time Periods</th>\n",
       "    </tr>\n",
       "  </thead>\n",
       "  <tbody>\n",
       "    <tr>\n",
       "      <th>0</th>\n",
       "      <td>549.256878</td>\n",
       "      <td>181.010975</td>\n",
       "      <td>91.247522</td>\n",
       "      <td>188.364425</td>\n",
       "      <td>79.707417</td>\n",
       "      <td>10.175812</td>\n",
       "      <td>3.520142</td>\n",
       "      <td>23.411029</td>\n",
       "      <td>NaN</td>\n",
       "      <td>NaN</td>\n",
       "      <td>...</td>\n",
       "      <td>7617</td>\n",
       "      <td>3.6</td>\n",
       "      <td>13,968</td>\n",
       "      <td>10,528</td>\n",
       "      <td>32</td>\n",
       "      <td>12,379</td>\n",
       "      <td>3,60,440</td>\n",
       "      <td>21,424</td>\n",
       "      <td>5,313</td>\n",
       "      <td>2020-01-01 00:00</td>\n",
       "    </tr>\n",
       "    <tr>\n",
       "      <th>1</th>\n",
       "      <td>435.438303</td>\n",
       "      <td>194.247049</td>\n",
       "      <td>79.661701</td>\n",
       "      <td>203.481853</td>\n",
       "      <td>66.258913</td>\n",
       "      <td>11.615925</td>\n",
       "      <td>3.464807</td>\n",
       "      <td>29.331609</td>\n",
       "      <td>9.827428</td>\n",
       "      <td>NaN</td>\n",
       "      <td>...</td>\n",
       "      <td>7617</td>\n",
       "      <td>3.6</td>\n",
       "      <td>13,968</td>\n",
       "      <td>10,528</td>\n",
       "      <td>32</td>\n",
       "      <td>12,379</td>\n",
       "      <td>3,60,440</td>\n",
       "      <td>21,424</td>\n",
       "      <td>5,313</td>\n",
       "      <td>2020-01-01 04:00</td>\n",
       "    </tr>\n",
       "    <tr>\n",
       "      <th>2</th>\n",
       "      <td>453.312378</td>\n",
       "      <td>112.499494</td>\n",
       "      <td>121.740909</td>\n",
       "      <td>153.914993</td>\n",
       "      <td>74.356791</td>\n",
       "      <td>10.590183</td>\n",
       "      <td>2.460498</td>\n",
       "      <td>30.172308</td>\n",
       "      <td>9.085975</td>\n",
       "      <td>NaN</td>\n",
       "      <td>...</td>\n",
       "      <td>7617</td>\n",
       "      <td>3.6</td>\n",
       "      <td>13,968</td>\n",
       "      <td>10,528</td>\n",
       "      <td>32</td>\n",
       "      <td>12,379</td>\n",
       "      <td>3,60,440</td>\n",
       "      <td>21,424</td>\n",
       "      <td>5,313</td>\n",
       "      <td>2020-01-01 08:00</td>\n",
       "    </tr>\n",
       "    <tr>\n",
       "      <th>3</th>\n",
       "      <td>186.603123</td>\n",
       "      <td>56.922094</td>\n",
       "      <td>114.142207</td>\n",
       "      <td>91.504524</td>\n",
       "      <td>NaN</td>\n",
       "      <td>12.217971</td>\n",
       "      <td>1.405930</td>\n",
       "      <td>30.493537</td>\n",
       "      <td>3.884649</td>\n",
       "      <td>104.475114</td>\n",
       "      <td>...</td>\n",
       "      <td>7617</td>\n",
       "      <td>3.6</td>\n",
       "      <td>13,968</td>\n",
       "      <td>10,528</td>\n",
       "      <td>32</td>\n",
       "      <td>12,379</td>\n",
       "      <td>3,60,440</td>\n",
       "      <td>21,424</td>\n",
       "      <td>5,313</td>\n",
       "      <td>2020-01-01 12:00</td>\n",
       "    </tr>\n",
       "    <tr>\n",
       "      <th>4</th>\n",
       "      <td>262.616309</td>\n",
       "      <td>77.363086</td>\n",
       "      <td>123.790340</td>\n",
       "      <td>117.065760</td>\n",
       "      <td>NaN</td>\n",
       "      <td>13.331616</td>\n",
       "      <td>2.692100</td>\n",
       "      <td>18.045684</td>\n",
       "      <td>5.605006</td>\n",
       "      <td>96.718827</td>\n",
       "      <td>...</td>\n",
       "      <td>7617</td>\n",
       "      <td>3.6</td>\n",
       "      <td>13,968</td>\n",
       "      <td>10,528</td>\n",
       "      <td>32</td>\n",
       "      <td>12,379</td>\n",
       "      <td>3,60,440</td>\n",
       "      <td>21,424</td>\n",
       "      <td>5,313</td>\n",
       "      <td>2020-01-01 16:00</td>\n",
       "    </tr>\n",
       "  </tbody>\n",
       "</table>\n",
       "<p>5 rows × 45 columns</p>\n",
       "</div>"
      ],
      "text/plain": [
       "        PM2.5          NO         NO2         NOx        NH3        SO2  \\\n",
       "0  549.256878  181.010975   91.247522  188.364425  79.707417  10.175812   \n",
       "1  435.438303  194.247049   79.661701  203.481853  66.258913  11.615925   \n",
       "2  453.312378  112.499494  121.740909  153.914993  74.356791  10.590183   \n",
       "3  186.603123   56.922094  114.142207   91.504524        NaN  12.217971   \n",
       "4  262.616309   77.363086  123.790340  117.065760        NaN  13.331616   \n",
       "\n",
       "         CO      Ozone   Benzene     Toluene  ...  \\\n",
       "0  3.520142  23.411029       NaN         NaN  ...   \n",
       "1  3.464807  29.331609  9.827428         NaN  ...   \n",
       "2  2.460498  30.172308  9.085975         NaN  ...   \n",
       "3  1.405930  30.493537  3.884649  104.475114  ...   \n",
       "4  2.692100  18.045684  5.605006   96.718827  ...   \n",
       "\n",
       "   Installed Capacity of Power as of 2022(Megawatt)  \\\n",
       "0                                              7617   \n",
       "1                                              7617   \n",
       "2                                              7617   \n",
       "3                                              7617   \n",
       "4                                              7617   \n",
       "\n",
       "   Death Rate as of 2020(Per 1000)  CNG ONLY  DIESEL  DIESEL/HYBRID  \\\n",
       "0                              3.6    13,968  10,528             32   \n",
       "1                              3.6    13,968  10,528             32   \n",
       "2                              3.6    13,968  10,528             32   \n",
       "3                              3.6    13,968  10,528             32   \n",
       "4                              3.6    13,968  10,528             32   \n",
       "\n",
       "   ELECTRIC(BOV)    PETROL  PETROL/CNG  PETROL/HYBRID      Time Periods  \n",
       "0         12,379  3,60,440      21,424          5,313  2020-01-01 00:00  \n",
       "1         12,379  3,60,440      21,424          5,313  2020-01-01 04:00  \n",
       "2         12,379  3,60,440      21,424          5,313  2020-01-01 08:00  \n",
       "3         12,379  3,60,440      21,424          5,313  2020-01-01 12:00  \n",
       "4         12,379  3,60,440      21,424          5,313  2020-01-01 16:00  \n",
       "\n",
       "[5 rows x 45 columns]"
      ]
     },
     "execution_count": 4,
     "metadata": {},
     "output_type": "execute_result"
    }
   ],
   "source": [
    "df.head()"
   ]
  },
  {
   "cell_type": "code",
   "execution_count": 5,
   "id": "8f40c05e",
   "metadata": {},
   "outputs": [
    {
     "name": "stdout",
     "output_type": "stream",
     "text": [
      "<class 'pandas.core.frame.DataFrame'>\n",
      "RangeIndex: 223584 entries, 0 to 223583\n",
      "Data columns (total 45 columns):\n",
      " #   Column                                            Non-Null Count   Dtype  \n",
      "---  ------                                            --------------   -----  \n",
      " 0   PM2.5                                             218044 non-null  float64\n",
      " 1   NO                                                218735 non-null  float64\n",
      " 2   NO2                                               218244 non-null  float64\n",
      " 3   NOx                                               217612 non-null  float64\n",
      " 4   NH3                                               217948 non-null  float64\n",
      " 5   SO2                                               219700 non-null  float64\n",
      " 6   CO                                                219762 non-null  float64\n",
      " 7   Ozone                                             219154 non-null  float64\n",
      " 8   Benzene                                           217487 non-null  float64\n",
      " 9   Toluene                                           167030 non-null  float64\n",
      " 10  Temp                                              51468 non-null   float64\n",
      " 11  RH                                                196373 non-null  float64\n",
      " 12  WS                                                216504 non-null  float64\n",
      " 13  WD                                                217775 non-null  float64\n",
      " 14  SR                                                207201 non-null  float64\n",
      " 15  BP                                                159133 non-null  float64\n",
      " 16  AT                                                202014 non-null  float64\n",
      " 17  RF                                                217653 non-null  float64\n",
      " 18  TOT-RF                                            223584 non-null  float64\n",
      " 19  VWS                                               44023 non-null   float64\n",
      " 20  Eth-Benzene                                       179287 non-null  float64\n",
      " 21  Xylene                                            137831 non-null  float64\n",
      " 22  MP-Xylene                                         174262 non-null  float64\n",
      " 23  O Xylene                                          123138 non-null  float64\n",
      " 24  CH4                                               6576 non-null    float64\n",
      " 25  City                                              223584 non-null  object \n",
      " 26  State                                             223584 non-null  object \n",
      " 27  Population as of 2021 (Estimated)                 223584 non-null  int64  \n",
      " 28  Latitude                                          223584 non-null  float64\n",
      " 29  Longitude                                         223584 non-null  float64\n",
      " 30  Total Length of Roads as of 2019(Km)              223584 non-null  int64  \n",
      " 31  Length of National Highways as of 2022(Km)        223584 non-null  int64  \n",
      " 32  Railway Route as of 2021(Km)                      223584 non-null  int64  \n",
      " 33  Forest Cover as of 2021(sq Km)                    223584 non-null  int64  \n",
      " 34  Number of Factories as of 2020 (Units)            223584 non-null  int64  \n",
      " 35  Installed Capacity of Power as of 2022(Megawatt)  223584 non-null  int64  \n",
      " 36  Death Rate as of 2020(Per 1000)                   223584 non-null  float64\n",
      " 37  CNG ONLY                                          210432 non-null  object \n",
      " 38  DIESEL                                            223584 non-null  object \n",
      " 39  DIESEL/HYBRID                                     223584 non-null  int64  \n",
      " 40  ELECTRIC(BOV)                                     223584 non-null  object \n",
      " 41  PETROL                                            223584 non-null  object \n",
      " 42  PETROL/CNG                                        223584 non-null  object \n",
      " 43  PETROL/HYBRID                                     223584 non-null  object \n",
      " 44  Time Periods                                      223584 non-null  object \n",
      "dtypes: float64(28), int64(8), object(9)\n",
      "memory usage: 76.8+ MB\n"
     ]
    }
   ],
   "source": [
    "df.info()"
   ]
  },
  {
   "cell_type": "markdown",
   "id": "ef885e0b",
   "metadata": {},
   "source": [
    "### Getting various insights of data such as mean , max , min and quartiles value of data"
   ]
  },
  {
   "cell_type": "code",
   "execution_count": 6,
   "id": "d15ea05a",
   "metadata": {},
   "outputs": [
    {
     "data": {
      "text/html": [
       "<div>\n",
       "<style scoped>\n",
       "    .dataframe tbody tr th:only-of-type {\n",
       "        vertical-align: middle;\n",
       "    }\n",
       "\n",
       "    .dataframe tbody tr th {\n",
       "        vertical-align: top;\n",
       "    }\n",
       "\n",
       "    .dataframe thead th {\n",
       "        text-align: right;\n",
       "    }\n",
       "</style>\n",
       "<table border=\"1\" class=\"dataframe\">\n",
       "  <thead>\n",
       "    <tr style=\"text-align: right;\">\n",
       "      <th></th>\n",
       "      <th>PM2.5</th>\n",
       "      <th>NO</th>\n",
       "      <th>NO2</th>\n",
       "      <th>NOx</th>\n",
       "      <th>NH3</th>\n",
       "      <th>SO2</th>\n",
       "      <th>CO</th>\n",
       "      <th>Ozone</th>\n",
       "      <th>Benzene</th>\n",
       "      <th>Toluene</th>\n",
       "      <th>...</th>\n",
       "      <th>Latitude</th>\n",
       "      <th>Longitude</th>\n",
       "      <th>Total Length of Roads as of 2019(Km)</th>\n",
       "      <th>Length of National Highways as of 2022(Km)</th>\n",
       "      <th>Railway Route as of 2021(Km)</th>\n",
       "      <th>Forest Cover as of 2021(sq Km)</th>\n",
       "      <th>Number of Factories as of 2020 (Units)</th>\n",
       "      <th>Installed Capacity of Power as of 2022(Megawatt)</th>\n",
       "      <th>Death Rate as of 2020(Per 1000)</th>\n",
       "      <th>DIESEL/HYBRID</th>\n",
       "    </tr>\n",
       "  </thead>\n",
       "  <tbody>\n",
       "    <tr>\n",
       "      <th>count</th>\n",
       "      <td>218044.000000</td>\n",
       "      <td>218735.000000</td>\n",
       "      <td>218244.000000</td>\n",
       "      <td>217612.000000</td>\n",
       "      <td>217948.000000</td>\n",
       "      <td>219700.000000</td>\n",
       "      <td>219762.000000</td>\n",
       "      <td>219154.000000</td>\n",
       "      <td>217487.000000</td>\n",
       "      <td>167030.000000</td>\n",
       "      <td>...</td>\n",
       "      <td>223584.000000</td>\n",
       "      <td>223584.000000</td>\n",
       "      <td>223584.000000</td>\n",
       "      <td>223584.000000</td>\n",
       "      <td>223584.000000</td>\n",
       "      <td>223584.000000</td>\n",
       "      <td>223584.000000</td>\n",
       "      <td>223584.000000</td>\n",
       "      <td>223584.000000</td>\n",
       "      <td>223584.000000</td>\n",
       "    </tr>\n",
       "    <tr>\n",
       "      <th>mean</th>\n",
       "      <td>69.213957</td>\n",
       "      <td>14.072135</td>\n",
       "      <td>30.366790</td>\n",
       "      <td>30.736544</td>\n",
       "      <td>26.234892</td>\n",
       "      <td>13.945535</td>\n",
       "      <td>0.987377</td>\n",
       "      <td>31.138962</td>\n",
       "      <td>3.730146</td>\n",
       "      <td>19.040600</td>\n",
       "      <td>...</td>\n",
       "      <td>24.619147</td>\n",
       "      <td>80.321382</td>\n",
       "      <td>286961.117647</td>\n",
       "      <td>7288.029412</td>\n",
       "      <td>4573.882353</td>\n",
       "      <td>21637.235294</td>\n",
       "      <td>11424.088235</td>\n",
       "      <td>20314.823529</td>\n",
       "      <td>5.938235</td>\n",
       "      <td>58.750295</td>\n",
       "    </tr>\n",
       "    <tr>\n",
       "      <th>std</th>\n",
       "      <td>56.962718</td>\n",
       "      <td>22.097622</td>\n",
       "      <td>31.883841</td>\n",
       "      <td>31.688403</td>\n",
       "      <td>20.545715</td>\n",
       "      <td>10.851849</td>\n",
       "      <td>0.792493</td>\n",
       "      <td>21.908442</td>\n",
       "      <td>5.709067</td>\n",
       "      <td>24.739317</td>\n",
       "      <td>...</td>\n",
       "      <td>5.056692</td>\n",
       "      <td>5.417350</td>\n",
       "      <td>159073.751285</td>\n",
       "      <td>4531.545100</td>\n",
       "      <td>3094.274920</td>\n",
       "      <td>19508.426850</td>\n",
       "      <td>8986.112066</td>\n",
       "      <td>13297.869679</td>\n",
       "      <td>0.933690</td>\n",
       "      <td>94.245640</td>\n",
       "    </tr>\n",
       "    <tr>\n",
       "      <th>min</th>\n",
       "      <td>0.100000</td>\n",
       "      <td>0.010000</td>\n",
       "      <td>0.010000</td>\n",
       "      <td>0.000000</td>\n",
       "      <td>0.100000</td>\n",
       "      <td>0.010000</td>\n",
       "      <td>0.000000</td>\n",
       "      <td>0.030000</td>\n",
       "      <td>0.000000</td>\n",
       "      <td>0.000000</td>\n",
       "      <td>...</td>\n",
       "      <td>8.486000</td>\n",
       "      <td>72.587000</td>\n",
       "      <td>2573.000000</td>\n",
       "      <td>15.000000</td>\n",
       "      <td>13.000000</td>\n",
       "      <td>23.000000</td>\n",
       "      <td>204.000000</td>\n",
       "      <td>225.000000</td>\n",
       "      <td>3.600000</td>\n",
       "      <td>0.000000</td>\n",
       "    </tr>\n",
       "    <tr>\n",
       "      <th>25%</th>\n",
       "      <td>30.340937</td>\n",
       "      <td>4.006669</td>\n",
       "      <td>12.175122</td>\n",
       "      <td>13.329495</td>\n",
       "      <td>13.053931</td>\n",
       "      <td>6.357942</td>\n",
       "      <td>0.476443</td>\n",
       "      <td>14.784502</td>\n",
       "      <td>0.872648</td>\n",
       "      <td>2.444047</td>\n",
       "      <td>...</td>\n",
       "      <td>23.026000</td>\n",
       "      <td>77.026000</td>\n",
       "      <td>120034.000000</td>\n",
       "      <td>3620.000000</td>\n",
       "      <td>1703.000000</td>\n",
       "      <td>14818.000000</td>\n",
       "      <td>3892.000000</td>\n",
       "      <td>7323.000000</td>\n",
       "      <td>5.500000</td>\n",
       "      <td>1.000000</td>\n",
       "    </tr>\n",
       "    <tr>\n",
       "      <th>50%</th>\n",
       "      <td>51.630955</td>\n",
       "      <td>6.727626</td>\n",
       "      <td>19.174929</td>\n",
       "      <td>21.085326</td>\n",
       "      <td>20.984008</td>\n",
       "      <td>11.360059</td>\n",
       "      <td>0.821914</td>\n",
       "      <td>27.112538</td>\n",
       "      <td>2.198147</td>\n",
       "      <td>8.847500</td>\n",
       "      <td>...</td>\n",
       "      <td>25.519500</td>\n",
       "      <td>78.095000</td>\n",
       "      <td>298205.000000</td>\n",
       "      <td>7257.000000</td>\n",
       "      <td>4212.000000</td>\n",
       "      <td>14872.000000</td>\n",
       "      <td>9694.000000</td>\n",
       "      <td>25385.000000</td>\n",
       "      <td>6.100000</td>\n",
       "      <td>13.000000</td>\n",
       "    </tr>\n",
       "    <tr>\n",
       "      <th>75%</th>\n",
       "      <td>91.310000</td>\n",
       "      <td>13.334686</td>\n",
       "      <td>36.976778</td>\n",
       "      <td>35.779768</td>\n",
       "      <td>33.487317</td>\n",
       "      <td>18.810202</td>\n",
       "      <td>1.213776</td>\n",
       "      <td>42.196887</td>\n",
       "      <td>4.028444</td>\n",
       "      <td>23.859738</td>\n",
       "      <td>...</td>\n",
       "      <td>28.411000</td>\n",
       "      <td>83.010000</td>\n",
       "      <td>442907.000000</td>\n",
       "      <td>12245.000000</td>\n",
       "      <td>8799.000000</td>\n",
       "      <td>23659.000000</td>\n",
       "      <td>16184.000000</td>\n",
       "      <td>29230.000000</td>\n",
       "      <td>6.500000</td>\n",
       "      <td>46.000000</td>\n",
       "    </tr>\n",
       "    <tr>\n",
       "      <th>max</th>\n",
       "      <td>890.873920</td>\n",
       "      <td>359.241357</td>\n",
       "      <td>300.479696</td>\n",
       "      <td>394.141771</td>\n",
       "      <td>412.902722</td>\n",
       "      <td>195.550000</td>\n",
       "      <td>9.472610</td>\n",
       "      <td>197.200000</td>\n",
       "      <td>205.880300</td>\n",
       "      <td>360.394123</td>\n",
       "      <td>...</td>\n",
       "      <td>34.086000</td>\n",
       "      <td>93.944000</td>\n",
       "      <td>636887.000000</td>\n",
       "      <td>18317.000000</td>\n",
       "      <td>8799.000000</td>\n",
       "      <td>77493.000000</td>\n",
       "      <td>38837.000000</td>\n",
       "      <td>43446.000000</td>\n",
       "      <td>7.900000</td>\n",
       "      <td>457.000000</td>\n",
       "    </tr>\n",
       "  </tbody>\n",
       "</table>\n",
       "<p>8 rows × 36 columns</p>\n",
       "</div>"
      ],
      "text/plain": [
       "               PM2.5             NO            NO2            NOx  \\\n",
       "count  218044.000000  218735.000000  218244.000000  217612.000000   \n",
       "mean       69.213957      14.072135      30.366790      30.736544   \n",
       "std        56.962718      22.097622      31.883841      31.688403   \n",
       "min         0.100000       0.010000       0.010000       0.000000   \n",
       "25%        30.340937       4.006669      12.175122      13.329495   \n",
       "50%        51.630955       6.727626      19.174929      21.085326   \n",
       "75%        91.310000      13.334686      36.976778      35.779768   \n",
       "max       890.873920     359.241357     300.479696     394.141771   \n",
       "\n",
       "                 NH3            SO2             CO          Ozone  \\\n",
       "count  217948.000000  219700.000000  219762.000000  219154.000000   \n",
       "mean       26.234892      13.945535       0.987377      31.138962   \n",
       "std        20.545715      10.851849       0.792493      21.908442   \n",
       "min         0.100000       0.010000       0.000000       0.030000   \n",
       "25%        13.053931       6.357942       0.476443      14.784502   \n",
       "50%        20.984008      11.360059       0.821914      27.112538   \n",
       "75%        33.487317      18.810202       1.213776      42.196887   \n",
       "max       412.902722     195.550000       9.472610     197.200000   \n",
       "\n",
       "             Benzene        Toluene  ...       Latitude      Longitude  \\\n",
       "count  217487.000000  167030.000000  ...  223584.000000  223584.000000   \n",
       "mean        3.730146      19.040600  ...      24.619147      80.321382   \n",
       "std         5.709067      24.739317  ...       5.056692       5.417350   \n",
       "min         0.000000       0.000000  ...       8.486000      72.587000   \n",
       "25%         0.872648       2.444047  ...      23.026000      77.026000   \n",
       "50%         2.198147       8.847500  ...      25.519500      78.095000   \n",
       "75%         4.028444      23.859738  ...      28.411000      83.010000   \n",
       "max       205.880300     360.394123  ...      34.086000      93.944000   \n",
       "\n",
       "       Total Length of Roads as of 2019(Km)  \\\n",
       "count                         223584.000000   \n",
       "mean                          286961.117647   \n",
       "std                           159073.751285   \n",
       "min                             2573.000000   \n",
       "25%                           120034.000000   \n",
       "50%                           298205.000000   \n",
       "75%                           442907.000000   \n",
       "max                           636887.000000   \n",
       "\n",
       "       Length of National Highways as of 2022(Km)  \\\n",
       "count                               223584.000000   \n",
       "mean                                  7288.029412   \n",
       "std                                   4531.545100   \n",
       "min                                     15.000000   \n",
       "25%                                   3620.000000   \n",
       "50%                                   7257.000000   \n",
       "75%                                  12245.000000   \n",
       "max                                  18317.000000   \n",
       "\n",
       "       Railway Route as of 2021(Km)  Forest Cover as of 2021(sq Km)  \\\n",
       "count                 223584.000000                   223584.000000   \n",
       "mean                    4573.882353                    21637.235294   \n",
       "std                     3094.274920                    19508.426850   \n",
       "min                       13.000000                       23.000000   \n",
       "25%                     1703.000000                    14818.000000   \n",
       "50%                     4212.000000                    14872.000000   \n",
       "75%                     8799.000000                    23659.000000   \n",
       "max                     8799.000000                    77493.000000   \n",
       "\n",
       "       Number of Factories as of 2020 (Units)  \\\n",
       "count                           223584.000000   \n",
       "mean                             11424.088235   \n",
       "std                               8986.112066   \n",
       "min                                204.000000   \n",
       "25%                               3892.000000   \n",
       "50%                               9694.000000   \n",
       "75%                              16184.000000   \n",
       "max                              38837.000000   \n",
       "\n",
       "       Installed Capacity of Power as of 2022(Megawatt)  \\\n",
       "count                                     223584.000000   \n",
       "mean                                       20314.823529   \n",
       "std                                        13297.869679   \n",
       "min                                          225.000000   \n",
       "25%                                         7323.000000   \n",
       "50%                                        25385.000000   \n",
       "75%                                        29230.000000   \n",
       "max                                        43446.000000   \n",
       "\n",
       "       Death Rate as of 2020(Per 1000)  DIESEL/HYBRID  \n",
       "count                    223584.000000  223584.000000  \n",
       "mean                          5.938235      58.750295  \n",
       "std                           0.933690      94.245640  \n",
       "min                           3.600000       0.000000  \n",
       "25%                           5.500000       1.000000  \n",
       "50%                           6.100000      13.000000  \n",
       "75%                           6.500000      46.000000  \n",
       "max                           7.900000     457.000000  \n",
       "\n",
       "[8 rows x 36 columns]"
      ]
     },
     "execution_count": 6,
     "metadata": {},
     "output_type": "execute_result"
    }
   ],
   "source": [
    "df.describe()"
   ]
  },
  {
   "cell_type": "code",
   "execution_count": 7,
   "id": "5b0c8692",
   "metadata": {
    "scrolled": true
   },
   "outputs": [
    {
     "data": {
      "text/plain": [
       "CH4                                                 217008\n",
       "VWS                                                 179561\n",
       "Temp                                                172116\n",
       "O Xylene                                            100446\n",
       "Xylene                                               85753\n",
       "BP                                                   64451\n",
       "Toluene                                              56554\n",
       "MP-Xylene                                            49322\n",
       "Eth-Benzene                                          44297\n",
       "RH                                                   27211\n",
       "AT                                                   21570\n",
       "SR                                                   16383\n",
       "CNG ONLY                                             13152\n",
       "WS                                                    7080\n",
       "Benzene                                               6097\n",
       "NOx                                                   5972\n",
       "RF                                                    5931\n",
       "WD                                                    5809\n",
       "NH3                                                   5636\n",
       "PM2.5                                                 5540\n",
       "NO2                                                   5340\n",
       "NO                                                    4849\n",
       "Ozone                                                 4430\n",
       "SO2                                                   3884\n",
       "CO                                                    3822\n",
       "TOT-RF                                                   0\n",
       "Installed Capacity of Power as of 2022(Megawatt)         0\n",
       "PETROL/HYBRID                                            0\n",
       "PETROL/CNG                                               0\n",
       "PETROL                                                   0\n",
       "ELECTRIC(BOV)                                            0\n",
       "DIESEL/HYBRID                                            0\n",
       "DIESEL                                                   0\n",
       "Death Rate as of 2020(Per 1000)                          0\n",
       "Railway Route as of 2021(Km)                             0\n",
       "Number of Factories as of 2020 (Units)                   0\n",
       "Forest Cover as of 2021(sq Km)                           0\n",
       "Length of National Highways as of 2022(Km)               0\n",
       "Total Length of Roads as of 2019(Km)                     0\n",
       "Longitude                                                0\n",
       "Latitude                                                 0\n",
       "Population as of 2021 (Estimated)                        0\n",
       "State                                                    0\n",
       "City                                                     0\n",
       "Time Periods                                             0\n",
       "dtype: int64"
      ]
     },
     "execution_count": 7,
     "metadata": {},
     "output_type": "execute_result"
    }
   ],
   "source": [
    "df.isnull().sum().sort_values(ascending=False)"
   ]
  },
  {
   "cell_type": "markdown",
   "id": "0b11095a",
   "metadata": {},
   "source": [
    "#### Many Columns are there which are having large no. of null values "
   ]
  },
  {
   "cell_type": "code",
   "execution_count": 8,
   "id": "6f1fa807",
   "metadata": {},
   "outputs": [
    {
     "data": {
      "text/plain": [
       "CH4                                                 97.058824\n",
       "VWS                                                 80.310308\n",
       "Temp                                                76.980464\n",
       "O Xylene                                            44.925397\n",
       "Xylene                                              38.353818\n",
       "BP                                                  28.826302\n",
       "Toluene                                             25.294297\n",
       "MP-Xylene                                           22.059718\n",
       "Eth-Benzene                                         19.812241\n",
       "RH                                                  12.170370\n",
       "AT                                                   9.647381\n",
       "SR                                                   7.327447\n",
       "CNG ONLY                                             5.882353\n",
       "WS                                                   3.166595\n",
       "Benzene                                              2.726939\n",
       "NOx                                                  2.671032\n",
       "RF                                                   2.652694\n",
       "WD                                                   2.598129\n",
       "NH3                                                  2.520753\n",
       "PM2.5                                                2.477816\n",
       "NO2                                                  2.388364\n",
       "NO                                                   2.168760\n",
       "Ozone                                                1.981358\n",
       "SO2                                                  1.737155\n",
       "CO                                                   1.709425\n",
       "TOT-RF                                               0.000000\n",
       "Installed Capacity of Power as of 2022(Megawatt)     0.000000\n",
       "PETROL/HYBRID                                        0.000000\n",
       "PETROL/CNG                                           0.000000\n",
       "PETROL                                               0.000000\n",
       "ELECTRIC(BOV)                                        0.000000\n",
       "DIESEL/HYBRID                                        0.000000\n",
       "DIESEL                                               0.000000\n",
       "Death Rate as of 2020(Per 1000)                      0.000000\n",
       "Railway Route as of 2021(Km)                         0.000000\n",
       "Number of Factories as of 2020 (Units)               0.000000\n",
       "Forest Cover as of 2021(sq Km)                       0.000000\n",
       "Length of National Highways as of 2022(Km)           0.000000\n",
       "Total Length of Roads as of 2019(Km)                 0.000000\n",
       "Longitude                                            0.000000\n",
       "Latitude                                             0.000000\n",
       "Population as of 2021 (Estimated)                    0.000000\n",
       "State                                                0.000000\n",
       "City                                                 0.000000\n",
       "Time Periods                                         0.000000\n",
       "dtype: float64"
      ]
     },
     "execution_count": 8,
     "metadata": {},
     "output_type": "execute_result"
    }
   ],
   "source": [
    "null_values_percentage=(df.isnull().sum()/df.isnull().count()*100).sort_values(ascending=False)\n",
    "null_values_percentage"
   ]
  },
  {
   "cell_type": "code",
   "execution_count": 9,
   "id": "14c48113",
   "metadata": {},
   "outputs": [
    {
     "data": {
      "text/plain": [
       "Index(['PM2.5', 'NO', 'NO2', 'NOx', 'NH3', 'SO2', 'CO', 'Ozone', 'Benzene',\n",
       "       'Toluene', 'Temp', 'RH', 'WS', 'WD', 'SR', 'BP', 'AT', 'RF', 'TOT-RF',\n",
       "       'VWS', 'Eth-Benzene', 'Xylene', 'MP-Xylene', 'O Xylene', 'CH4', 'City',\n",
       "       'State', 'Population as of 2021 (Estimated)', 'Latitude', 'Longitude',\n",
       "       'Total Length of Roads as of 2019(Km)',\n",
       "       'Length of National Highways as of 2022(Km)',\n",
       "       'Railway Route as of 2021(Km)', 'Forest Cover as of 2021(sq Km)',\n",
       "       'Number of Factories as of 2020 (Units)',\n",
       "       'Installed Capacity of Power as of 2022(Megawatt)',\n",
       "       'Death Rate as of 2020(Per 1000)', 'CNG ONLY', 'DIESEL',\n",
       "       'DIESEL/HYBRID', 'ELECTRIC(BOV)', 'PETROL', 'PETROL/CNG',\n",
       "       'PETROL/HYBRID', 'Time Periods'],\n",
       "      dtype='object')"
      ]
     },
     "execution_count": 9,
     "metadata": {},
     "output_type": "execute_result"
    }
   ],
   "source": [
    "df.columns"
   ]
  },
  {
   "cell_type": "markdown",
   "id": "41d3ddbf",
   "metadata": {},
   "source": [
    "##### The columns containing the higher no. of null values and that doesnt have more direct impact on PM2.5 should be dropped"
   ]
  },
  {
   "cell_type": "code",
   "execution_count": 10,
   "id": "f6d0b80f",
   "metadata": {},
   "outputs": [
    {
     "data": {
      "text/html": [
       "<div>\n",
       "<style scoped>\n",
       "    .dataframe tbody tr th:only-of-type {\n",
       "        vertical-align: middle;\n",
       "    }\n",
       "\n",
       "    .dataframe tbody tr th {\n",
       "        vertical-align: top;\n",
       "    }\n",
       "\n",
       "    .dataframe thead th {\n",
       "        text-align: right;\n",
       "    }\n",
       "</style>\n",
       "<table border=\"1\" class=\"dataframe\">\n",
       "  <thead>\n",
       "    <tr style=\"text-align: right;\">\n",
       "      <th></th>\n",
       "      <th>PM2.5</th>\n",
       "      <th>NO</th>\n",
       "      <th>NO2</th>\n",
       "      <th>NOx</th>\n",
       "      <th>NH3</th>\n",
       "      <th>SO2</th>\n",
       "      <th>CO</th>\n",
       "      <th>Ozone</th>\n",
       "      <th>Benzene</th>\n",
       "      <th>Toluene</th>\n",
       "      <th>City</th>\n",
       "      <th>State</th>\n",
       "      <th>Time Periods</th>\n",
       "    </tr>\n",
       "  </thead>\n",
       "  <tbody>\n",
       "    <tr>\n",
       "      <th>0</th>\n",
       "      <td>549.256878</td>\n",
       "      <td>181.010975</td>\n",
       "      <td>91.247522</td>\n",
       "      <td>188.364425</td>\n",
       "      <td>79.707417</td>\n",
       "      <td>10.175812</td>\n",
       "      <td>3.520142</td>\n",
       "      <td>23.411029</td>\n",
       "      <td>NaN</td>\n",
       "      <td>NaN</td>\n",
       "      <td>Delhi</td>\n",
       "      <td>Delhi</td>\n",
       "      <td>2020-01-01 00:00</td>\n",
       "    </tr>\n",
       "    <tr>\n",
       "      <th>1</th>\n",
       "      <td>435.438303</td>\n",
       "      <td>194.247049</td>\n",
       "      <td>79.661701</td>\n",
       "      <td>203.481853</td>\n",
       "      <td>66.258913</td>\n",
       "      <td>11.615925</td>\n",
       "      <td>3.464807</td>\n",
       "      <td>29.331609</td>\n",
       "      <td>9.827428</td>\n",
       "      <td>NaN</td>\n",
       "      <td>Delhi</td>\n",
       "      <td>Delhi</td>\n",
       "      <td>2020-01-01 04:00</td>\n",
       "    </tr>\n",
       "    <tr>\n",
       "      <th>2</th>\n",
       "      <td>453.312378</td>\n",
       "      <td>112.499494</td>\n",
       "      <td>121.740909</td>\n",
       "      <td>153.914993</td>\n",
       "      <td>74.356791</td>\n",
       "      <td>10.590183</td>\n",
       "      <td>2.460498</td>\n",
       "      <td>30.172308</td>\n",
       "      <td>9.085975</td>\n",
       "      <td>NaN</td>\n",
       "      <td>Delhi</td>\n",
       "      <td>Delhi</td>\n",
       "      <td>2020-01-01 08:00</td>\n",
       "    </tr>\n",
       "    <tr>\n",
       "      <th>3</th>\n",
       "      <td>186.603123</td>\n",
       "      <td>56.922094</td>\n",
       "      <td>114.142207</td>\n",
       "      <td>91.504524</td>\n",
       "      <td>NaN</td>\n",
       "      <td>12.217971</td>\n",
       "      <td>1.405930</td>\n",
       "      <td>30.493537</td>\n",
       "      <td>3.884649</td>\n",
       "      <td>104.475114</td>\n",
       "      <td>Delhi</td>\n",
       "      <td>Delhi</td>\n",
       "      <td>2020-01-01 12:00</td>\n",
       "    </tr>\n",
       "    <tr>\n",
       "      <th>4</th>\n",
       "      <td>262.616309</td>\n",
       "      <td>77.363086</td>\n",
       "      <td>123.790340</td>\n",
       "      <td>117.065760</td>\n",
       "      <td>NaN</td>\n",
       "      <td>13.331616</td>\n",
       "      <td>2.692100</td>\n",
       "      <td>18.045684</td>\n",
       "      <td>5.605006</td>\n",
       "      <td>96.718827</td>\n",
       "      <td>Delhi</td>\n",
       "      <td>Delhi</td>\n",
       "      <td>2020-01-01 16:00</td>\n",
       "    </tr>\n",
       "    <tr>\n",
       "      <th>...</th>\n",
       "      <td>...</td>\n",
       "      <td>...</td>\n",
       "      <td>...</td>\n",
       "      <td>...</td>\n",
       "      <td>...</td>\n",
       "      <td>...</td>\n",
       "      <td>...</td>\n",
       "      <td>...</td>\n",
       "      <td>...</td>\n",
       "      <td>...</td>\n",
       "      <td>...</td>\n",
       "      <td>...</td>\n",
       "      <td>...</td>\n",
       "    </tr>\n",
       "    <tr>\n",
       "      <th>223579</th>\n",
       "      <td>196.989121</td>\n",
       "      <td>60.688939</td>\n",
       "      <td>88.463906</td>\n",
       "      <td>104.906711</td>\n",
       "      <td>109.511292</td>\n",
       "      <td>53.108086</td>\n",
       "      <td>2.336561</td>\n",
       "      <td>55.699203</td>\n",
       "      <td>3.684526</td>\n",
       "      <td>7.927572</td>\n",
       "      <td>Mumbai</td>\n",
       "      <td>Maharashtra</td>\n",
       "      <td>2022-12-31 04:00</td>\n",
       "    </tr>\n",
       "    <tr>\n",
       "      <th>223580</th>\n",
       "      <td>187.428487</td>\n",
       "      <td>56.707438</td>\n",
       "      <td>93.311216</td>\n",
       "      <td>103.099160</td>\n",
       "      <td>106.682026</td>\n",
       "      <td>55.535340</td>\n",
       "      <td>2.235001</td>\n",
       "      <td>73.030945</td>\n",
       "      <td>3.388236</td>\n",
       "      <td>6.980251</td>\n",
       "      <td>Mumbai</td>\n",
       "      <td>Maharashtra</td>\n",
       "      <td>2022-12-31 08:00</td>\n",
       "    </tr>\n",
       "    <tr>\n",
       "      <th>223581</th>\n",
       "      <td>176.635690</td>\n",
       "      <td>28.382382</td>\n",
       "      <td>87.318776</td>\n",
       "      <td>80.058537</td>\n",
       "      <td>110.258415</td>\n",
       "      <td>53.701056</td>\n",
       "      <td>1.754315</td>\n",
       "      <td>93.830288</td>\n",
       "      <td>3.328736</td>\n",
       "      <td>6.993954</td>\n",
       "      <td>Mumbai</td>\n",
       "      <td>Maharashtra</td>\n",
       "      <td>2022-12-31 12:00</td>\n",
       "    </tr>\n",
       "    <tr>\n",
       "      <th>223582</th>\n",
       "      <td>189.740021</td>\n",
       "      <td>12.664340</td>\n",
       "      <td>54.773063</td>\n",
       "      <td>51.766913</td>\n",
       "      <td>67.224030</td>\n",
       "      <td>40.155829</td>\n",
       "      <td>1.361177</td>\n",
       "      <td>73.099207</td>\n",
       "      <td>2.423073</td>\n",
       "      <td>4.875033</td>\n",
       "      <td>Mumbai</td>\n",
       "      <td>Maharashtra</td>\n",
       "      <td>2022-12-31 16:00</td>\n",
       "    </tr>\n",
       "    <tr>\n",
       "      <th>223583</th>\n",
       "      <td>164.385975</td>\n",
       "      <td>24.014566</td>\n",
       "      <td>66.402465</td>\n",
       "      <td>70.142974</td>\n",
       "      <td>94.957895</td>\n",
       "      <td>33.771574</td>\n",
       "      <td>1.770766</td>\n",
       "      <td>45.108456</td>\n",
       "      <td>2.719856</td>\n",
       "      <td>6.109795</td>\n",
       "      <td>Mumbai</td>\n",
       "      <td>Maharashtra</td>\n",
       "      <td>2022-12-31 20:00</td>\n",
       "    </tr>\n",
       "  </tbody>\n",
       "</table>\n",
       "<p>223584 rows × 13 columns</p>\n",
       "</div>"
      ],
      "text/plain": [
       "             PM2.5          NO         NO2         NOx         NH3        SO2  \\\n",
       "0       549.256878  181.010975   91.247522  188.364425   79.707417  10.175812   \n",
       "1       435.438303  194.247049   79.661701  203.481853   66.258913  11.615925   \n",
       "2       453.312378  112.499494  121.740909  153.914993   74.356791  10.590183   \n",
       "3       186.603123   56.922094  114.142207   91.504524         NaN  12.217971   \n",
       "4       262.616309   77.363086  123.790340  117.065760         NaN  13.331616   \n",
       "...            ...         ...         ...         ...         ...        ...   \n",
       "223579  196.989121   60.688939   88.463906  104.906711  109.511292  53.108086   \n",
       "223580  187.428487   56.707438   93.311216  103.099160  106.682026  55.535340   \n",
       "223581  176.635690   28.382382   87.318776   80.058537  110.258415  53.701056   \n",
       "223582  189.740021   12.664340   54.773063   51.766913   67.224030  40.155829   \n",
       "223583  164.385975   24.014566   66.402465   70.142974   94.957895  33.771574   \n",
       "\n",
       "              CO      Ozone   Benzene     Toluene    City        State  \\\n",
       "0       3.520142  23.411029       NaN         NaN   Delhi        Delhi   \n",
       "1       3.464807  29.331609  9.827428         NaN   Delhi        Delhi   \n",
       "2       2.460498  30.172308  9.085975         NaN   Delhi        Delhi   \n",
       "3       1.405930  30.493537  3.884649  104.475114   Delhi        Delhi   \n",
       "4       2.692100  18.045684  5.605006   96.718827   Delhi        Delhi   \n",
       "...          ...        ...       ...         ...     ...          ...   \n",
       "223579  2.336561  55.699203  3.684526    7.927572  Mumbai  Maharashtra   \n",
       "223580  2.235001  73.030945  3.388236    6.980251  Mumbai  Maharashtra   \n",
       "223581  1.754315  93.830288  3.328736    6.993954  Mumbai  Maharashtra   \n",
       "223582  1.361177  73.099207  2.423073    4.875033  Mumbai  Maharashtra   \n",
       "223583  1.770766  45.108456  2.719856    6.109795  Mumbai  Maharashtra   \n",
       "\n",
       "            Time Periods  \n",
       "0       2020-01-01 00:00  \n",
       "1       2020-01-01 04:00  \n",
       "2       2020-01-01 08:00  \n",
       "3       2020-01-01 12:00  \n",
       "4       2020-01-01 16:00  \n",
       "...                  ...  \n",
       "223579  2022-12-31 04:00  \n",
       "223580  2022-12-31 08:00  \n",
       "223581  2022-12-31 12:00  \n",
       "223582  2022-12-31 16:00  \n",
       "223583  2022-12-31 20:00  \n",
       "\n",
       "[223584 rows x 13 columns]"
      ]
     },
     "execution_count": 10,
     "metadata": {},
     "output_type": "execute_result"
    }
   ],
   "source": [
    "data=df.drop(['Temp', 'RH', 'WS', 'WD', 'SR', 'BP', 'AT', 'RF', 'TOT-RF',\n",
    "       'VWS', 'Eth-Benzene', 'Xylene', 'MP-Xylene', 'O Xylene', 'CH4', 'Population as of 2021 (Estimated)', 'Latitude', 'Longitude',\n",
    "       'Total Length of Roads as of 2019(Km)',\n",
    "       'Length of National Highways as of 2022(Km)',\n",
    "       'Railway Route as of 2021(Km)', 'Forest Cover as of 2021(sq Km)',\n",
    "       'Number of Factories as of 2020 (Units)',\n",
    "       'Installed Capacity of Power as of 2022(Megawatt)',\n",
    "       'Death Rate as of 2020(Per 1000)', 'CNG ONLY', 'DIESEL',\n",
    "       'DIESEL/HYBRID', 'ELECTRIC(BOV)', 'PETROL', 'PETROL/CNG',\n",
    "       'PETROL/HYBRID', ],axis=1)\n",
    "data"
   ]
  },
  {
   "cell_type": "markdown",
   "id": "51d86ff7",
   "metadata": {},
   "source": [
    "#### The 'Time Period' Column is in the data type string so we have to convert it into datetime datatype and extract date, year and month from it "
   ]
  },
  {
   "cell_type": "code",
   "execution_count": 11,
   "id": "1bd59deb",
   "metadata": {
    "scrolled": false
   },
   "outputs": [
    {
     "data": {
      "text/html": [
       "<div>\n",
       "<style scoped>\n",
       "    .dataframe tbody tr th:only-of-type {\n",
       "        vertical-align: middle;\n",
       "    }\n",
       "\n",
       "    .dataframe tbody tr th {\n",
       "        vertical-align: top;\n",
       "    }\n",
       "\n",
       "    .dataframe thead th {\n",
       "        text-align: right;\n",
       "    }\n",
       "</style>\n",
       "<table border=\"1\" class=\"dataframe\">\n",
       "  <thead>\n",
       "    <tr style=\"text-align: right;\">\n",
       "      <th></th>\n",
       "      <th>PM2.5</th>\n",
       "      <th>NO</th>\n",
       "      <th>NO2</th>\n",
       "      <th>NOx</th>\n",
       "      <th>NH3</th>\n",
       "      <th>SO2</th>\n",
       "      <th>CO</th>\n",
       "      <th>Ozone</th>\n",
       "      <th>Benzene</th>\n",
       "      <th>Toluene</th>\n",
       "      <th>year</th>\n",
       "      <th>month</th>\n",
       "      <th>day</th>\n",
       "      <th>hour</th>\n",
       "      <th>mins</th>\n",
       "      <th>seconds</th>\n",
       "    </tr>\n",
       "  </thead>\n",
       "  <tbody>\n",
       "    <tr>\n",
       "      <th>count</th>\n",
       "      <td>218044.000000</td>\n",
       "      <td>218735.000000</td>\n",
       "      <td>218244.000000</td>\n",
       "      <td>217612.000000</td>\n",
       "      <td>217948.000000</td>\n",
       "      <td>219700.000000</td>\n",
       "      <td>219762.000000</td>\n",
       "      <td>219154.000000</td>\n",
       "      <td>217487.000000</td>\n",
       "      <td>167030.000000</td>\n",
       "      <td>223584.000000</td>\n",
       "      <td>223584.000000</td>\n",
       "      <td>223584.000000</td>\n",
       "      <td>223584.000000</td>\n",
       "      <td>223584.0</td>\n",
       "      <td>223584.0</td>\n",
       "    </tr>\n",
       "    <tr>\n",
       "      <th>mean</th>\n",
       "      <td>69.213957</td>\n",
       "      <td>14.072135</td>\n",
       "      <td>30.366790</td>\n",
       "      <td>30.736544</td>\n",
       "      <td>26.234892</td>\n",
       "      <td>13.945535</td>\n",
       "      <td>0.987377</td>\n",
       "      <td>31.138962</td>\n",
       "      <td>3.730146</td>\n",
       "      <td>19.040600</td>\n",
       "      <td>2020.999088</td>\n",
       "      <td>6.521898</td>\n",
       "      <td>15.732664</td>\n",
       "      <td>10.000000</td>\n",
       "      <td>0.0</td>\n",
       "      <td>0.0</td>\n",
       "    </tr>\n",
       "    <tr>\n",
       "      <th>std</th>\n",
       "      <td>56.962718</td>\n",
       "      <td>22.097622</td>\n",
       "      <td>31.883841</td>\n",
       "      <td>31.688403</td>\n",
       "      <td>20.545715</td>\n",
       "      <td>10.851849</td>\n",
       "      <td>0.792493</td>\n",
       "      <td>21.908442</td>\n",
       "      <td>5.709067</td>\n",
       "      <td>24.739317</td>\n",
       "      <td>0.816684</td>\n",
       "      <td>3.448994</td>\n",
       "      <td>8.801390</td>\n",
       "      <td>6.831316</td>\n",
       "      <td>0.0</td>\n",
       "      <td>0.0</td>\n",
       "    </tr>\n",
       "    <tr>\n",
       "      <th>min</th>\n",
       "      <td>0.100000</td>\n",
       "      <td>0.010000</td>\n",
       "      <td>0.010000</td>\n",
       "      <td>0.000000</td>\n",
       "      <td>0.100000</td>\n",
       "      <td>0.010000</td>\n",
       "      <td>0.000000</td>\n",
       "      <td>0.030000</td>\n",
       "      <td>0.000000</td>\n",
       "      <td>0.000000</td>\n",
       "      <td>2020.000000</td>\n",
       "      <td>1.000000</td>\n",
       "      <td>1.000000</td>\n",
       "      <td>0.000000</td>\n",
       "      <td>0.0</td>\n",
       "      <td>0.0</td>\n",
       "    </tr>\n",
       "    <tr>\n",
       "      <th>25%</th>\n",
       "      <td>30.340937</td>\n",
       "      <td>4.006669</td>\n",
       "      <td>12.175122</td>\n",
       "      <td>13.329495</td>\n",
       "      <td>13.053931</td>\n",
       "      <td>6.357942</td>\n",
       "      <td>0.476443</td>\n",
       "      <td>14.784502</td>\n",
       "      <td>0.872648</td>\n",
       "      <td>2.444047</td>\n",
       "      <td>2020.000000</td>\n",
       "      <td>4.000000</td>\n",
       "      <td>8.000000</td>\n",
       "      <td>4.000000</td>\n",
       "      <td>0.0</td>\n",
       "      <td>0.0</td>\n",
       "    </tr>\n",
       "    <tr>\n",
       "      <th>50%</th>\n",
       "      <td>51.630955</td>\n",
       "      <td>6.727626</td>\n",
       "      <td>19.174929</td>\n",
       "      <td>21.085326</td>\n",
       "      <td>20.984008</td>\n",
       "      <td>11.360059</td>\n",
       "      <td>0.821914</td>\n",
       "      <td>27.112538</td>\n",
       "      <td>2.198147</td>\n",
       "      <td>8.847500</td>\n",
       "      <td>2021.000000</td>\n",
       "      <td>7.000000</td>\n",
       "      <td>16.000000</td>\n",
       "      <td>10.000000</td>\n",
       "      <td>0.0</td>\n",
       "      <td>0.0</td>\n",
       "    </tr>\n",
       "    <tr>\n",
       "      <th>75%</th>\n",
       "      <td>91.310000</td>\n",
       "      <td>13.334686</td>\n",
       "      <td>36.976778</td>\n",
       "      <td>35.779768</td>\n",
       "      <td>33.487317</td>\n",
       "      <td>18.810202</td>\n",
       "      <td>1.213776</td>\n",
       "      <td>42.196887</td>\n",
       "      <td>4.028444</td>\n",
       "      <td>23.859738</td>\n",
       "      <td>2022.000000</td>\n",
       "      <td>10.000000</td>\n",
       "      <td>23.000000</td>\n",
       "      <td>16.000000</td>\n",
       "      <td>0.0</td>\n",
       "      <td>0.0</td>\n",
       "    </tr>\n",
       "    <tr>\n",
       "      <th>max</th>\n",
       "      <td>890.873920</td>\n",
       "      <td>359.241357</td>\n",
       "      <td>300.479696</td>\n",
       "      <td>394.141771</td>\n",
       "      <td>412.902722</td>\n",
       "      <td>195.550000</td>\n",
       "      <td>9.472610</td>\n",
       "      <td>197.200000</td>\n",
       "      <td>205.880300</td>\n",
       "      <td>360.394123</td>\n",
       "      <td>2022.000000</td>\n",
       "      <td>12.000000</td>\n",
       "      <td>31.000000</td>\n",
       "      <td>20.000000</td>\n",
       "      <td>0.0</td>\n",
       "      <td>0.0</td>\n",
       "    </tr>\n",
       "  </tbody>\n",
       "</table>\n",
       "</div>"
      ],
      "text/plain": [
       "               PM2.5             NO            NO2            NOx  \\\n",
       "count  218044.000000  218735.000000  218244.000000  217612.000000   \n",
       "mean       69.213957      14.072135      30.366790      30.736544   \n",
       "std        56.962718      22.097622      31.883841      31.688403   \n",
       "min         0.100000       0.010000       0.010000       0.000000   \n",
       "25%        30.340937       4.006669      12.175122      13.329495   \n",
       "50%        51.630955       6.727626      19.174929      21.085326   \n",
       "75%        91.310000      13.334686      36.976778      35.779768   \n",
       "max       890.873920     359.241357     300.479696     394.141771   \n",
       "\n",
       "                 NH3            SO2             CO          Ozone  \\\n",
       "count  217948.000000  219700.000000  219762.000000  219154.000000   \n",
       "mean       26.234892      13.945535       0.987377      31.138962   \n",
       "std        20.545715      10.851849       0.792493      21.908442   \n",
       "min         0.100000       0.010000       0.000000       0.030000   \n",
       "25%        13.053931       6.357942       0.476443      14.784502   \n",
       "50%        20.984008      11.360059       0.821914      27.112538   \n",
       "75%        33.487317      18.810202       1.213776      42.196887   \n",
       "max       412.902722     195.550000       9.472610     197.200000   \n",
       "\n",
       "             Benzene        Toluene           year          month  \\\n",
       "count  217487.000000  167030.000000  223584.000000  223584.000000   \n",
       "mean        3.730146      19.040600    2020.999088       6.521898   \n",
       "std         5.709067      24.739317       0.816684       3.448994   \n",
       "min         0.000000       0.000000    2020.000000       1.000000   \n",
       "25%         0.872648       2.444047    2020.000000       4.000000   \n",
       "50%         2.198147       8.847500    2021.000000       7.000000   \n",
       "75%         4.028444      23.859738    2022.000000      10.000000   \n",
       "max       205.880300     360.394123    2022.000000      12.000000   \n",
       "\n",
       "                 day           hour      mins   seconds  \n",
       "count  223584.000000  223584.000000  223584.0  223584.0  \n",
       "mean       15.732664      10.000000       0.0       0.0  \n",
       "std         8.801390       6.831316       0.0       0.0  \n",
       "min         1.000000       0.000000       0.0       0.0  \n",
       "25%         8.000000       4.000000       0.0       0.0  \n",
       "50%        16.000000      10.000000       0.0       0.0  \n",
       "75%        23.000000      16.000000       0.0       0.0  \n",
       "max        31.000000      20.000000       0.0       0.0  "
      ]
     },
     "execution_count": 11,
     "metadata": {},
     "output_type": "execute_result"
    }
   ],
   "source": [
    "data['Time Periods']=pd.to_datetime(data['Time Periods'])\n",
    "data['year']=data['Time Periods'].dt.year\n",
    "data['month']=data['Time Periods'].dt.month\n",
    "data['day']=data['Time Periods'].dt.day\n",
    "data['hour']=data['Time Periods'].dt.hour\n",
    "data['mins']=data['Time Periods'].dt.minute\n",
    "data['seconds']=data['Time Periods'].dt.second\n",
    "data['Month_Year'] = data['Time Periods'].dt.to_period('M')\n",
    "data.describe()"
   ]
  },
  {
   "cell_type": "markdown",
   "id": "fad63f1e",
   "metadata": {},
   "source": [
    "### Filling the null values with the data, to avoid the ambiguity in the data"
   ]
  },
  {
   "cell_type": "code",
   "execution_count": 12,
   "id": "f6176ea0",
   "metadata": {},
   "outputs": [],
   "source": [
    "# Trying mean, median, f/b fill, 0 and interpolation for filling the data\n",
    "\n",
    "numeric_columns = data.select_dtypes(include='number').columns\n",
    "\n",
    "#mean - 3rd best\n",
    "# data[numeric_columns] = data[numeric_columns].fillna(data[numeric_columns].mean(axis=0))\n",
    "\n",
    "#median\n",
    "# data[numeric_columns] = data[numeric_columns].fillna(data[numeric_columns].median(axis=0))\n",
    "\n",
    "#ffill / bfill - 2nd best\n",
    "# data[numeric_columns] = data[numeric_columns].fillna(method='bfill')\n",
    "# data[numeric_columns] = data[numeric_columns].fillna(method='ffill')\n",
    "\n",
    "#Interpolation - working the best (0.83 rfc score)\n",
    "data[numeric_columns] = data[numeric_columns].interpolate(method='cubic')\n",
    "data[numeric_columns] = data[numeric_columns].fillna(method='bfill')\n",
    "\n",
    "#Filling 0\n",
    "# data.fillna(0,inplace=True)"
   ]
  },
  {
   "cell_type": "code",
   "execution_count": 13,
   "id": "23f65ebe",
   "metadata": {},
   "outputs": [
    {
     "data": {
      "text/html": [
       "<div>\n",
       "<style scoped>\n",
       "    .dataframe tbody tr th:only-of-type {\n",
       "        vertical-align: middle;\n",
       "    }\n",
       "\n",
       "    .dataframe tbody tr th {\n",
       "        vertical-align: top;\n",
       "    }\n",
       "\n",
       "    .dataframe thead th {\n",
       "        text-align: right;\n",
       "    }\n",
       "</style>\n",
       "<table border=\"1\" class=\"dataframe\">\n",
       "  <thead>\n",
       "    <tr style=\"text-align: right;\">\n",
       "      <th></th>\n",
       "      <th>PM2.5</th>\n",
       "      <th>NO</th>\n",
       "      <th>NO2</th>\n",
       "      <th>NOx</th>\n",
       "      <th>NH3</th>\n",
       "      <th>SO2</th>\n",
       "      <th>CO</th>\n",
       "      <th>Ozone</th>\n",
       "      <th>Benzene</th>\n",
       "      <th>Toluene</th>\n",
       "      <th>City</th>\n",
       "      <th>State</th>\n",
       "      <th>Time Periods</th>\n",
       "      <th>year</th>\n",
       "      <th>month</th>\n",
       "      <th>day</th>\n",
       "      <th>hour</th>\n",
       "      <th>mins</th>\n",
       "      <th>seconds</th>\n",
       "      <th>Month_Year</th>\n",
       "    </tr>\n",
       "  </thead>\n",
       "  <tbody>\n",
       "    <tr>\n",
       "      <th>0</th>\n",
       "      <td>549.256878</td>\n",
       "      <td>181.010975</td>\n",
       "      <td>91.247522</td>\n",
       "      <td>188.364425</td>\n",
       "      <td>79.707417</td>\n",
       "      <td>10.175812</td>\n",
       "      <td>3.520142</td>\n",
       "      <td>23.411029</td>\n",
       "      <td>9.827428</td>\n",
       "      <td>104.475114</td>\n",
       "      <td>Delhi</td>\n",
       "      <td>Delhi</td>\n",
       "      <td>2020-01-01 00:00:00</td>\n",
       "      <td>2020</td>\n",
       "      <td>1</td>\n",
       "      <td>1</td>\n",
       "      <td>0</td>\n",
       "      <td>0</td>\n",
       "      <td>0</td>\n",
       "      <td>2020-01</td>\n",
       "    </tr>\n",
       "    <tr>\n",
       "      <th>1</th>\n",
       "      <td>435.438303</td>\n",
       "      <td>194.247049</td>\n",
       "      <td>79.661701</td>\n",
       "      <td>203.481853</td>\n",
       "      <td>66.258913</td>\n",
       "      <td>11.615925</td>\n",
       "      <td>3.464807</td>\n",
       "      <td>29.331609</td>\n",
       "      <td>9.827428</td>\n",
       "      <td>104.475114</td>\n",
       "      <td>Delhi</td>\n",
       "      <td>Delhi</td>\n",
       "      <td>2020-01-01 04:00:00</td>\n",
       "      <td>2020</td>\n",
       "      <td>1</td>\n",
       "      <td>1</td>\n",
       "      <td>4</td>\n",
       "      <td>0</td>\n",
       "      <td>0</td>\n",
       "      <td>2020-01</td>\n",
       "    </tr>\n",
       "    <tr>\n",
       "      <th>2</th>\n",
       "      <td>453.312378</td>\n",
       "      <td>112.499494</td>\n",
       "      <td>121.740909</td>\n",
       "      <td>153.914993</td>\n",
       "      <td>74.356791</td>\n",
       "      <td>10.590183</td>\n",
       "      <td>2.460498</td>\n",
       "      <td>30.172308</td>\n",
       "      <td>9.085975</td>\n",
       "      <td>104.475114</td>\n",
       "      <td>Delhi</td>\n",
       "      <td>Delhi</td>\n",
       "      <td>2020-01-01 08:00:00</td>\n",
       "      <td>2020</td>\n",
       "      <td>1</td>\n",
       "      <td>1</td>\n",
       "      <td>8</td>\n",
       "      <td>0</td>\n",
       "      <td>0</td>\n",
       "      <td>2020-01</td>\n",
       "    </tr>\n",
       "    <tr>\n",
       "      <th>3</th>\n",
       "      <td>186.603123</td>\n",
       "      <td>56.922094</td>\n",
       "      <td>114.142207</td>\n",
       "      <td>91.504524</td>\n",
       "      <td>78.964747</td>\n",
       "      <td>12.217971</td>\n",
       "      <td>1.405930</td>\n",
       "      <td>30.493537</td>\n",
       "      <td>3.884649</td>\n",
       "      <td>104.475114</td>\n",
       "      <td>Delhi</td>\n",
       "      <td>Delhi</td>\n",
       "      <td>2020-01-01 12:00:00</td>\n",
       "      <td>2020</td>\n",
       "      <td>1</td>\n",
       "      <td>1</td>\n",
       "      <td>12</td>\n",
       "      <td>0</td>\n",
       "      <td>0</td>\n",
       "      <td>2020-01</td>\n",
       "    </tr>\n",
       "    <tr>\n",
       "      <th>4</th>\n",
       "      <td>262.616309</td>\n",
       "      <td>77.363086</td>\n",
       "      <td>123.790340</td>\n",
       "      <td>117.065760</td>\n",
       "      <td>77.051167</td>\n",
       "      <td>13.331616</td>\n",
       "      <td>2.692100</td>\n",
       "      <td>18.045684</td>\n",
       "      <td>5.605006</td>\n",
       "      <td>96.718827</td>\n",
       "      <td>Delhi</td>\n",
       "      <td>Delhi</td>\n",
       "      <td>2020-01-01 16:00:00</td>\n",
       "      <td>2020</td>\n",
       "      <td>1</td>\n",
       "      <td>1</td>\n",
       "      <td>16</td>\n",
       "      <td>0</td>\n",
       "      <td>0</td>\n",
       "      <td>2020-01</td>\n",
       "    </tr>\n",
       "  </tbody>\n",
       "</table>\n",
       "</div>"
      ],
      "text/plain": [
       "        PM2.5          NO         NO2         NOx        NH3        SO2  \\\n",
       "0  549.256878  181.010975   91.247522  188.364425  79.707417  10.175812   \n",
       "1  435.438303  194.247049   79.661701  203.481853  66.258913  11.615925   \n",
       "2  453.312378  112.499494  121.740909  153.914993  74.356791  10.590183   \n",
       "3  186.603123   56.922094  114.142207   91.504524  78.964747  12.217971   \n",
       "4  262.616309   77.363086  123.790340  117.065760  77.051167  13.331616   \n",
       "\n",
       "         CO      Ozone   Benzene     Toluene   City  State  \\\n",
       "0  3.520142  23.411029  9.827428  104.475114  Delhi  Delhi   \n",
       "1  3.464807  29.331609  9.827428  104.475114  Delhi  Delhi   \n",
       "2  2.460498  30.172308  9.085975  104.475114  Delhi  Delhi   \n",
       "3  1.405930  30.493537  3.884649  104.475114  Delhi  Delhi   \n",
       "4  2.692100  18.045684  5.605006   96.718827  Delhi  Delhi   \n",
       "\n",
       "         Time Periods  year  month  day  hour  mins  seconds Month_Year  \n",
       "0 2020-01-01 00:00:00  2020      1    1     0     0        0    2020-01  \n",
       "1 2020-01-01 04:00:00  2020      1    1     4     0        0    2020-01  \n",
       "2 2020-01-01 08:00:00  2020      1    1     8     0        0    2020-01  \n",
       "3 2020-01-01 12:00:00  2020      1    1    12     0        0    2020-01  \n",
       "4 2020-01-01 16:00:00  2020      1    1    16     0        0    2020-01  "
      ]
     },
     "execution_count": 13,
     "metadata": {},
     "output_type": "execute_result"
    }
   ],
   "source": [
    "data.head()\n",
    "# data.isnull().sum().sort_values(ascending=False)"
   ]
  },
  {
   "cell_type": "markdown",
   "id": "8ffeb10a",
   "metadata": {},
   "source": [
    "## Data Visualisation"
   ]
  },
  {
   "cell_type": "code",
   "execution_count": 14,
   "id": "96ca9909",
   "metadata": {},
   "outputs": [
    {
     "data": {
      "text/plain": [
       "Uttar Pradesh        59184\n",
       "Bihar                19728\n",
       "West Bengal          13152\n",
       "Haryana              13152\n",
       "Rajasthan            13152\n",
       "Chhattisgarh         13152\n",
       "Gujarat              13152\n",
       "Madhya Pradesh       13152\n",
       "Tamil Nadu            6576\n",
       "Chandigarh            6576\n",
       "Karnataka             6576\n",
       "Delhi                 6576\n",
       "Jammu and Kashmir     6576\n",
       "Tripura               6576\n",
       "Kerala                6576\n",
       "Manipur               6576\n",
       "Assam                 6576\n",
       "Maharashtra           6576\n",
       "Name: State, dtype: int64"
      ]
     },
     "execution_count": 14,
     "metadata": {},
     "output_type": "execute_result"
    }
   ],
   "source": [
    "data['State'].value_counts()"
   ]
  },
  {
   "cell_type": "code",
   "execution_count": 15,
   "id": "c1f6602f",
   "metadata": {},
   "outputs": [
    {
     "data": {
      "text/plain": [
       "(array([ 0,  1,  2,  3,  4,  5,  6,  7,  8,  9, 10, 11, 12, 13, 14, 15, 16,\n",
       "        17]),\n",
       " [Text(0, 0, 'Delhi'),\n",
       "  Text(1, 0, 'Gujarat'),\n",
       "  Text(2, 0, 'Uttar Pradesh'),\n",
       "  Text(3, 0, 'Assam'),\n",
       "  Text(4, 0, 'Haryana'),\n",
       "  Text(5, 0, 'Rajasthan'),\n",
       "  Text(6, 0, 'Manipur'),\n",
       "  Text(7, 0, 'Kerala'),\n",
       "  Text(8, 0, 'Tripura'),\n",
       "  Text(9, 0, 'Bihar'),\n",
       "  Text(10, 0, 'Jammu and Kashmir'),\n",
       "  Text(11, 0, 'West Bengal'),\n",
       "  Text(12, 0, 'Madhya Pradesh'),\n",
       "  Text(13, 0, 'Karnataka'),\n",
       "  Text(14, 0, 'Chhattisgarh'),\n",
       "  Text(15, 0, 'Chandigarh'),\n",
       "  Text(16, 0, 'Tamil Nadu'),\n",
       "  Text(17, 0, 'Maharashtra')])"
      ]
     },
     "execution_count": 15,
     "metadata": {},
     "output_type": "execute_result"
    },
    {
     "data": {
      "image/png": "[encoded data removed]",
      "text/plain": [
       "<Figure size 640x480 with 1 Axes>"
      ]
     },
     "metadata": {},
     "output_type": "display_data"
    }
   ],
   "source": [
    "sns.countplot(data=data,x=data['State'])\n",
    "plt.xticks(rotation = 90)"
   ]
  },
  {
   "cell_type": "markdown",
   "id": "7f3248fa",
   "metadata": {},
   "source": [
    "#### From above plot we can conclude that we are having more no. of data samples from the UP state"
   ]
  },
  {
   "cell_type": "code",
   "execution_count": 16,
   "id": "45dd7666",
   "metadata": {},
   "outputs": [
    {
     "data": {
      "text/plain": [
       "(array([ 0,  1,  2,  3,  4,  5,  6,  7,  8,  9, 10, 11, 12, 13, 14, 15, 16,\n",
       "        17, 18, 19, 20, 21, 22, 23, 24, 25, 26, 27, 28, 29, 30, 31, 32, 33]),\n",
       " [Text(0, 0, 'Delhi'),\n",
       "  Text(1, 0, 'Ahmedabad'),\n",
       "  Text(2, 0, 'Gandhinagar'),\n",
       "  Text(3, 0, 'Lucknow'),\n",
       "  Text(4, 0, 'Varanasi'),\n",
       "  Text(5, 0, 'Meerut'),\n",
       "  Text(6, 0, 'Prayagraj'),\n",
       "  Text(7, 0, 'Ghaziabad'),\n",
       "  Text(8, 0, 'Agra'),\n",
       "  Text(9, 0, 'Noida'),\n",
       "  Text(10, 0, 'Kanpur'),\n",
       "  Text(11, 0, 'Moradabad'),\n",
       "  Text(12, 0, 'Guwahati'),\n",
       "  Text(13, 0, 'Faridabad'),\n",
       "  Text(14, 0, 'Gurugram'),\n",
       "  Text(15, 0, 'Jaipur'),\n",
       "  Text(16, 0, 'Kota'),\n",
       "  Text(17, 0, 'Imphal'),\n",
       "  Text(18, 0, 'Thiruvananthapuram'),\n",
       "  Text(19, 0, 'Agartala'),\n",
       "  Text(20, 0, 'Gaya'),\n",
       "  Text(21, 0, 'Muzaffarpur'),\n",
       "  Text(22, 0, 'Patna'),\n",
       "  Text(23, 0, 'Srinagar'),\n",
       "  Text(24, 0, 'Howrah'),\n",
       "  Text(25, 0, 'Kolkata'),\n",
       "  Text(26, 0, 'Bhopal'),\n",
       "  Text(27, 0, 'Gwalior'),\n",
       "  Text(28, 0, 'Bengaluru'),\n",
       "  Text(29, 0, 'Raipur'),\n",
       "  Text(30, 0, 'Bhilai'),\n",
       "  Text(31, 0, 'Chandigarh'),\n",
       "  Text(32, 0, 'Chennai'),\n",
       "  Text(33, 0, 'Mumbai')])"
      ]
     },
     "execution_count": 16,
     "metadata": {},
     "output_type": "execute_result"
    },
    {
     "data": {
      "image/png": "[encoded data removed]",
      "text/plain": [
       "<Figure size 1000x800 with 1 Axes>"
      ]
     },
     "metadata": {},
     "output_type": "display_data"
    }
   ],
   "source": [
    "plt.figure(figsize=(10,8))\n",
    "sns.barplot(x=data['City'],y=data['PM2.5'],data=data,palette='viridis')\n",
    "plt.xticks(rotation = 90)"
   ]
  },
  {
   "cell_type": "markdown",
   "id": "5f8f0da6",
   "metadata": {},
   "source": [
    "### The most PM2.5 conc. cities are 'Delhi','Chandigrah','Gwalior',Gaya' and so on...."
   ]
  },
  {
   "cell_type": "code",
   "execution_count": 17,
   "id": "4f805311",
   "metadata": {
    "scrolled": true
   },
   "outputs": [
    {
     "data": {
      "text/html": [
       "<div>\n",
       "<style scoped>\n",
       "    .dataframe tbody tr th:only-of-type {\n",
       "        vertical-align: middle;\n",
       "    }\n",
       "\n",
       "    .dataframe tbody tr th {\n",
       "        vertical-align: top;\n",
       "    }\n",
       "\n",
       "    .dataframe thead th {\n",
       "        text-align: right;\n",
       "    }\n",
       "</style>\n",
       "<table border=\"1\" class=\"dataframe\">\n",
       "  <thead>\n",
       "    <tr style=\"text-align: right;\">\n",
       "      <th></th>\n",
       "      <th>PM2.5</th>\n",
       "      <th>NO</th>\n",
       "      <th>NO2</th>\n",
       "      <th>NOx</th>\n",
       "      <th>NH3</th>\n",
       "      <th>SO2</th>\n",
       "      <th>CO</th>\n",
       "      <th>Ozone</th>\n",
       "      <th>Benzene</th>\n",
       "      <th>Toluene</th>\n",
       "      <th>City</th>\n",
       "      <th>State</th>\n",
       "      <th>Time Periods</th>\n",
       "      <th>year</th>\n",
       "      <th>month</th>\n",
       "      <th>day</th>\n",
       "      <th>hour</th>\n",
       "      <th>mins</th>\n",
       "      <th>seconds</th>\n",
       "      <th>Month_Year</th>\n",
       "    </tr>\n",
       "  </thead>\n",
       "  <tbody>\n",
       "    <tr>\n",
       "      <th>30713</th>\n",
       "      <td>1018.626461</td>\n",
       "      <td>14.269986</td>\n",
       "      <td>21.520646</td>\n",
       "      <td>26.300962</td>\n",
       "      <td>15.606701</td>\n",
       "      <td>6.260782</td>\n",
       "      <td>0.739714</td>\n",
       "      <td>13.016632</td>\n",
       "      <td>4.981465</td>\n",
       "      <td>32.41</td>\n",
       "      <td>Agra</td>\n",
       "      <td>Uttar Pradesh</td>\n",
       "      <td>2020-01-01 20:00:00</td>\n",
       "      <td>2020</td>\n",
       "      <td>1</td>\n",
       "      <td>1</td>\n",
       "      <td>20</td>\n",
       "      <td>0</td>\n",
       "      <td>0</td>\n",
       "      <td>2020-01</td>\n",
       "    </tr>\n",
       "  </tbody>\n",
       "</table>\n",
       "</div>"
      ],
      "text/plain": [
       "             PM2.5         NO        NO2        NOx        NH3       SO2  \\\n",
       "30713  1018.626461  14.269986  21.520646  26.300962  15.606701  6.260782   \n",
       "\n",
       "             CO      Ozone   Benzene  Toluene  City          State  \\\n",
       "30713  0.739714  13.016632  4.981465    32.41  Agra  Uttar Pradesh   \n",
       "\n",
       "             Time Periods  year  month  day  hour  mins  seconds Month_Year  \n",
       "30713 2020-01-01 20:00:00  2020      1    1    20     0        0    2020-01  "
      ]
     },
     "execution_count": 17,
     "metadata": {},
     "output_type": "execute_result"
    }
   ],
   "source": [
    "data[data['PM2.5']==data['PM2.5'].max()]"
   ]
  },
  {
   "cell_type": "markdown",
   "id": "b87e11d3",
   "metadata": {},
   "source": [
    "### Agra City have recorded higher concentration of PM2.5 all over India from the last 3 years"
   ]
  },
  {
   "cell_type": "code",
   "execution_count": 18,
   "id": "d256c52a",
   "metadata": {},
   "outputs": [],
   "source": [
    "df3=pd.DataFrame(data[['PM2.5','Month_Year','City']].groupby(['Month_Year']).mean())"
   ]
  },
  {
   "cell_type": "code",
   "execution_count": 19,
   "id": "d7c1f6bb",
   "metadata": {},
   "outputs": [
    {
     "data": {
      "text/html": [
       "        <script type=\"text/javascript\">\n",
       "        window.PlotlyConfig = {MathJaxConfig: 'local'};\n",
       "        if (window.MathJax && window.MathJax.Hub && window.MathJax.Hub.Config) {window.MathJax.Hub.Config({SVG: {font: \"STIX-Web\"}});}\n",
       "        if (typeof require !== 'undefined') {\n",
       "        require.undef(\"plotly\");\n",
       "        requirejs.config({\n",
       "            paths: {\n",
       "                'plotly': ['https://cdn.plot.ly/plotly-2.18.2.min']\n",
       "            }\n",
       "        });\n",
       "        require(['plotly'], function(Plotly) {\n",
       "            window._Plotly = Plotly;\n",
       "        });\n",
       "        }\n",
       "        </script>\n",
       "        "
      ]
     },
     "metadata": {},
     "output_type": "display_data"
    },
    {
     "data": {
      "text/html": [
       "        <script type=\"text/javascript\">\n",
       "        window.PlotlyConfig = {MathJaxConfig: 'local'};\n",
       "        if (window.MathJax && window.MathJax.Hub && window.MathJax.Hub.Config) {window.MathJax.Hub.Config({SVG: {font: \"STIX-Web\"}});}\n",
       "        if (typeof require !== 'undefined') {\n",
       "        require.undef(\"plotly\");\n",
       "        requirejs.config({\n",
       "            paths: {\n",
       "                'plotly': ['https://cdn.plot.ly/plotly-2.18.2.min']\n",
       "            }\n",
       "        });\n",
       "        require(['plotly'], function(Plotly) {\n",
       "            window._Plotly = Plotly;\n",
       "        });\n",
       "        }\n",
       "        </script>\n",
       "        "
      ]
     },
     "metadata": {},
     "output_type": "display_data"
    }
   ],
   "source": [
    "from plotly import __version__\n",
    "from plotly.offline import download_plotlyjs,init_notebook_mode,plot,iplot\n",
    "import cufflinks as cf\n",
    "init_notebook_mode(connected=True)\n",
    "cf.go_offline()\n"
   ]
  },
  {
   "cell_type": "code",
   "execution_count": 20,
   "id": "f1eeb4b3",
   "metadata": {},
   "outputs": [
    {
     "data": {
      "application/vnd.plotly.v1+json": {
       "config": {
        "linkText": "Export to plot.ly",
        "plotlyServerURL": "https://plot.ly",
        "showLink": true
       },
       "data": [
        {
         "line": {
          "color": "rgba(255, 153, 51, 1.0)",
          "dash": "solid",
          "shape": "linear",
          "width": 1.3
         },
         "mode": "lines",
         "name": "PM2.5",
         "text": "",
         "type": "scatter",
         "x": [
          "2020-01",
          "2020-02",
          "2020-03",
          "2020-04",
          "2020-05",
          "2020-06",
          "2020-07",
          "2020-08",
          "2020-09",
          "2020-10",
          "2020-11",
          "2020-12",
          "2021-01",
          "2021-02",
          "2021-03",
          "2021-04",
          "2021-05",
          "2021-06",
          "2021-07",
          "2021-08",
          "2021-09",
          "2021-10",
          "2021-11",
          "2021-12",
          "2022-01",
          "2022-02",
          "2022-03",
          "2022-04",
          "2022-05",
          "2022-06",
          "2022-07",
          "2022-08",
          "2022-09",
          "2022-10",
          "2022-11",
          "2022-12"
         ],
         "y": [
          96.6748360246797,
          70.94114628808758,
          60.00439850996234,
          53.11003425493027,
          56.87450501579427,
          54.73380137216021,
          50.89343470567507,
          49.32412954861107,
          55.40339115355827,
          78.50743186313045,
          102.66795820924432,
          106.54812403721253,
          105.60473406694868,
          91.28343390290664,
          76.40340694946906,
          65.52752244362374,
          56.15763180687937,
          55.61677684795286,
          47.089007071741605,
          47.04555265831042,
          44.536609363515666,
          64.70720690031594,
          117.64347622735944,
          104.63808652505665,
          97.01113200604232,
          77.38559837628485,
          72.07322475955056,
          65.24183572876215,
          56.41292103523456,
          47.63961615555269,
          36.79173510425627,
          33.1681188298452,
          36.320158493849696,
          63.36522193855087,
          92.96721950595696,
          103.35407788602559
         ]
        }
       ],
       "layout": {
        "legend": {
         "bgcolor": "#F5F6F9",
         "font": {
          "color": "#4D5663"
         }
        },
        "paper_bgcolor": "#F5F6F9",
        "plot_bgcolor": "#F5F6F9",
        "template": {
         "data": {
          "bar": [
           {
            "error_x": {
             "color": "#2a3f5f"
            },
            "error_y": {
             "color": "#2a3f5f"
            },
            "marker": {
             "line": {
              "color": "#E5ECF6",
              "width": 0.5
             },
             "pattern": {
              "fillmode": "overlay",
              "size": 10,
              "solidity": 0.2
             }
            },
            "type": "bar"
           }
          ],
          "barpolar": [
           {
            "marker": {
             "line": {
              "color": "#E5ECF6",
              "width": 0.5
             },
             "pattern": {
              "fillmode": "overlay",
              "size": 10,
              "solidity": 0.2
             }
            },
            "type": "barpolar"
           }
          ],
          "carpet": [
           {
            "aaxis": {
             "endlinecolor": "#2a3f5f",
             "gridcolor": "white",
             "linecolor": "white",
             "minorgridcolor": "white",
             "startlinecolor": "#2a3f5f"
            },
            "baxis": {
             "endlinecolor": "#2a3f5f",
             "gridcolor": "white",
             "linecolor": "white",
             "minorgridcolor": "white",
             "startlinecolor": "#2a3f5f"
            },
            "type": "carpet"
           }
          ],
          "choropleth": [
           {
            "colorbar": {
             "outlinewidth": 0,
             "ticks": ""
            },
            "type": "choropleth"
           }
          ],
          "contour": [
           {
            "colorbar": {
             "outlinewidth": 0,
             "ticks": ""
            },
            "colorscale": [
             [
              0,
              "#0d0887"
             ],
             [
              0.1111111111111111,
              "#46039f"
             ],
             [
              0.2222222222222222,
              "#7201a8"
             ],
             [
              0.3333333333333333,
              "#9c179e"
             ],
             [
              0.4444444444444444,
              "#bd3786"
             ],
             [
              0.5555555555555556,
              "#d8576b"
             ],
             [
              0.6666666666666666,
              "#ed7953"
             ],
             [
              0.7777777777777778,
              "#fb9f3a"
             ],
             [
              0.8888888888888888,
              "#fdca26"
             ],
             [
              1,
              "#f0f921"
             ]
            ],
            "type": "contour"
           }
          ],
          "contourcarpet": [
           {
            "colorbar": {
             "outlinewidth": 0,
             "ticks": ""
            },
            "type": "contourcarpet"
           }
          ],
          "heatmap": [
           {
            "colorbar": {
             "outlinewidth": 0,
             "ticks": ""
            },
            "colorscale": [
             [
              0,
              "#0d0887"
             ],
             [
              0.1111111111111111,
              "#46039f"
             ],
             [
              0.2222222222222222,
              "#7201a8"
             ],
             [
              0.3333333333333333,
              "#9c179e"
             ],
             [
              0.4444444444444444,
              "#bd3786"
             ],
             [
              0.5555555555555556,
              "#d8576b"
             ],
             [
              0.6666666666666666,
              "#ed7953"
             ],
             [
              0.7777777777777778,
              "#fb9f3a"
             ],
             [
              0.8888888888888888,
              "#fdca26"
             ],
             [
              1,
              "#f0f921"
             ]
            ],
            "type": "heatmap"
           }
          ],
          "heatmapgl": [
           {
            "colorbar": {
             "outlinewidth": 0,
             "ticks": ""
            },
            "colorscale": [
             [
              0,
              "#0d0887"
             ],
             [
              0.1111111111111111,
              "#46039f"
             ],
             [
              0.2222222222222222,
              "#7201a8"
             ],
             [
              0.3333333333333333,
              "#9c179e"
             ],
             [
              0.4444444444444444,
              "#bd3786"
             ],
             [
              0.5555555555555556,
              "#d8576b"
             ],
             [
              0.6666666666666666,
              "#ed7953"
             ],
             [
              0.7777777777777778,
              "#fb9f3a"
             ],
             [
              0.8888888888888888,
              "#fdca26"
             ],
             [
              1,
              "#f0f921"
             ]
            ],
            "type": "heatmapgl"
           }
          ],
          "histogram": [
           {
            "marker": {
             "pattern": {
              "fillmode": "overlay",
              "size": 10,
              "solidity": 0.2
             }
            },
            "type": "histogram"
           }
          ],
          "histogram2d": [
           {
            "colorbar": {
             "outlinewidth": 0,
             "ticks": ""
            },
            "colorscale": [
             [
              0,
              "#0d0887"
             ],
             [
              0.1111111111111111,
              "#46039f"
             ],
             [
              0.2222222222222222,
              "#7201a8"
             ],
             [
              0.3333333333333333,
              "#9c179e"
             ],
             [
              0.4444444444444444,
              "#bd3786"
             ],
             [
              0.5555555555555556,
              "#d8576b"
             ],
             [
              0.6666666666666666,
              "#ed7953"
             ],
             [
              0.7777777777777778,
              "#fb9f3a"
             ],
             [
              0.8888888888888888,
              "#fdca26"
             ],
             [
              1,
              "#f0f921"
             ]
            ],
            "type": "histogram2d"
           }
          ],
          "histogram2dcontour": [
           {
            "colorbar": {
             "outlinewidth": 0,
             "ticks": ""
            },
            "colorscale": [
             [
              0,
              "#0d0887"
             ],
             [
              0.1111111111111111,
              "#46039f"
             ],
             [
              0.2222222222222222,
              "#7201a8"
             ],
             [
              0.3333333333333333,
              "#9c179e"
             ],
             [
              0.4444444444444444,
              "#bd3786"
             ],
             [
              0.5555555555555556,
              "#d8576b"
             ],
             [
              0.6666666666666666,
              "#ed7953"
             ],
             [
              0.7777777777777778,
              "#fb9f3a"
             ],
             [
              0.8888888888888888,
              "#fdca26"
             ],
             [
              1,
              "#f0f921"
             ]
            ],
            "type": "histogram2dcontour"
           }
          ],
          "mesh3d": [
           {
            "colorbar": {
             "outlinewidth": 0,
             "ticks": ""
            },
            "type": "mesh3d"
           }
          ],
          "parcoords": [
           {
            "line": {
             "colorbar": {
              "outlinewidth": 0,
              "ticks": ""
             }
            },
            "type": "parcoords"
           }
          ],
          "pie": [
           {
            "automargin": true,
            "type": "pie"
           }
          ],
          "scatter": [
           {
            "fillpattern": {
             "fillmode": "overlay",
             "size": 10,
             "solidity": 0.2
            },
            "type": "scatter"
           }
          ],
          "scatter3d": [
           {
            "line": {
             "colorbar": {
              "outlinewidth": 0,
              "ticks": ""
             }
            },
            "marker": {
             "colorbar": {
              "outlinewidth": 0,
              "ticks": ""
             }
            },
            "type": "scatter3d"
           }
          ],
          "scattercarpet": [
           {
            "marker": {
             "colorbar": {
              "outlinewidth": 0,
              "ticks": ""
             }
            },
            "type": "scattercarpet"
           }
          ],
          "scattergeo": [
           {
            "marker": {
             "colorbar": {
              "outlinewidth": 0,
              "ticks": ""
             }
            },
            "type": "scattergeo"
           }
          ],
          "scattergl": [
           {
            "marker": {
             "colorbar": {
              "outlinewidth": 0,
              "ticks": ""
             }
            },
            "type": "scattergl"
           }
          ],
          "scattermapbox": [
           {
            "marker": {
             "colorbar": {
              "outlinewidth": 0,
              "ticks": ""
             }
            },
            "type": "scattermapbox"
           }
          ],
          "scatterpolar": [
           {
            "marker": {
             "colorbar": {
              "outlinewidth": 0,
              "ticks": ""
             }
            },
            "type": "scatterpolar"
           }
          ],
          "scatterpolargl": [
           {
            "marker": {
             "colorbar": {
              "outlinewidth": 0,
              "ticks": ""
             }
            },
            "type": "scatterpolargl"
           }
          ],
          "scatterternary": [
           {
            "marker": {
             "colorbar": {
              "outlinewidth": 0,
              "ticks": ""
             }
            },
            "type": "scatterternary"
           }
          ],
          "surface": [
           {
            "colorbar": {
             "outlinewidth": 0,
             "ticks": ""
            },
            "colorscale": [
             [
              0,
              "#0d0887"
             ],
             [
              0.1111111111111111,
              "#46039f"
             ],
             [
              0.2222222222222222,
              "#7201a8"
             ],
             [
              0.3333333333333333,
              "#9c179e"
             ],
             [
              0.4444444444444444,
              "#bd3786"
             ],
             [
              0.5555555555555556,
              "#d8576b"
             ],
             [
              0.6666666666666666,
              "#ed7953"
             ],
             [
              0.7777777777777778,
              "#fb9f3a"
             ],
             [
              0.8888888888888888,
              "#fdca26"
             ],
             [
              1,
              "#f0f921"
             ]
            ],
            "type": "surface"
           }
          ],
          "table": [
           {
            "cells": {
             "fill": {
              "color": "#EBF0F8"
             },
             "line": {
              "color": "white"
             }
            },
            "header": {
             "fill": {
              "color": "#C8D4E3"
             },
             "line": {
              "color": "white"
             }
            },
            "type": "table"
           }
          ]
         },
         "layout": {
          "annotationdefaults": {
           "arrowcolor": "#2a3f5f",
           "arrowhead": 0,
           "arrowwidth": 1
          },
          "autotypenumbers": "strict",
          "coloraxis": {
           "colorbar": {
            "outlinewidth": 0,
            "ticks": ""
           }
          },
          "colorscale": {
           "diverging": [
            [
             0,
             "#8e0152"
            ],
            [
             0.1,
             "#c51b7d"
            ],
            [
             0.2,
             "#de77ae"
            ],
            [
             0.3,
             "#f1b6da"
            ],
            [
             0.4,
             "#fde0ef"
            ],
            [
             0.5,
             "#f7f7f7"
            ],
            [
             0.6,
             "#e6f5d0"
            ],
            [
             0.7,
             "#b8e186"
            ],
            [
             0.8,
             "#7fbc41"
            ],
            [
             0.9,
             "#4d9221"
            ],
            [
             1,
             "#276419"
            ]
           ],
           "sequential": [
            [
             0,
             "#0d0887"
            ],
            [
             0.1111111111111111,
             "#46039f"
            ],
            [
             0.2222222222222222,
             "#7201a8"
            ],
            [
             0.3333333333333333,
             "#9c179e"
            ],
            [
             0.4444444444444444,
             "#bd3786"
            ],
            [
             0.5555555555555556,
             "#d8576b"
            ],
            [
             0.6666666666666666,
             "#ed7953"
            ],
            [
             0.7777777777777778,
             "#fb9f3a"
            ],
            [
             0.8888888888888888,
             "#fdca26"
            ],
            [
             1,
             "#f0f921"
            ]
           ],
           "sequentialminus": [
            [
             0,
             "#0d0887"
            ],
            [
             0.1111111111111111,
             "#46039f"
            ],
            [
             0.2222222222222222,
             "#7201a8"
            ],
            [
             0.3333333333333333,
             "#9c179e"
            ],
            [
             0.4444444444444444,
             "#bd3786"
            ],
            [
             0.5555555555555556,
             "#d8576b"
            ],
            [
             0.6666666666666666,
             "#ed7953"
            ],
            [
             0.7777777777777778,
             "#fb9f3a"
            ],
            [
             0.8888888888888888,
             "#fdca26"
            ],
            [
             1,
             "#f0f921"
            ]
           ]
          },
          "colorway": [
           "#636efa",
           "#EF553B",
           "#00cc96",
           "#ab63fa",
           "#FFA15A",
           "#19d3f3",
           "#FF6692",
           "#B6E880",
           "#FF97FF",
           "#FECB52"
          ],
          "font": {
           "color": "#2a3f5f"
          },
          "geo": {
           "bgcolor": "white",
           "lakecolor": "white",
           "landcolor": "#E5ECF6",
           "showlakes": true,
           "showland": true,
           "subunitcolor": "white"
          },
          "hoverlabel": {
           "align": "left"
          },
          "hovermode": "closest",
          "mapbox": {
           "style": "light"
          },
          "paper_bgcolor": "white",
          "plot_bgcolor": "#E5ECF6",
          "polar": {
           "angularaxis": {
            "gridcolor": "white",
            "linecolor": "white",
            "ticks": ""
           },
           "bgcolor": "#E5ECF6",
           "radialaxis": {
            "gridcolor": "white",
            "linecolor": "white",
            "ticks": ""
           }
          },
          "scene": {
           "xaxis": {
            "backgroundcolor": "#E5ECF6",
            "gridcolor": "white",
            "gridwidth": 2,
            "linecolor": "white",
            "showbackground": true,
            "ticks": "",
            "zerolinecolor": "white"
           },
           "yaxis": {
            "backgroundcolor": "#E5ECF6",
            "gridcolor": "white",
            "gridwidth": 2,
            "linecolor": "white",
            "showbackground": true,
            "ticks": "",
            "zerolinecolor": "white"
           },
           "zaxis": {
            "backgroundcolor": "#E5ECF6",
            "gridcolor": "white",
            "gridwidth": 2,
            "linecolor": "white",
            "showbackground": true,
            "ticks": "",
            "zerolinecolor": "white"
           }
          },
          "shapedefaults": {
           "line": {
            "color": "#2a3f5f"
           }
          },
          "ternary": {
           "aaxis": {
            "gridcolor": "white",
            "linecolor": "white",
            "ticks": ""
           },
           "baxis": {
            "gridcolor": "white",
            "linecolor": "white",
            "ticks": ""
           },
           "bgcolor": "#E5ECF6",
           "caxis": {
            "gridcolor": "white",
            "linecolor": "white",
            "ticks": ""
           }
          },
          "title": {
           "x": 0.05
          },
          "xaxis": {
           "automargin": true,
           "gridcolor": "white",
           "linecolor": "white",
           "ticks": "",
           "title": {
            "standoff": 15
           },
           "zerolinecolor": "white",
           "zerolinewidth": 2
          },
          "yaxis": {
           "automargin": true,
           "gridcolor": "white",
           "linecolor": "white",
           "ticks": "",
           "title": {
            "standoff": 15
           },
           "zerolinecolor": "white",
           "zerolinewidth": 2
          }
         }
        },
        "title": {
         "font": {
          "color": "#4D5663"
         }
        },
        "xaxis": {
         "gridcolor": "#E1E5ED",
         "showgrid": true,
         "tickfont": {
          "color": "#4D5663"
         },
         "title": {
          "font": {
           "color": "#4D5663"
          },
          "text": ""
         },
         "zerolinecolor": "#E1E5ED"
        },
        "yaxis": {
         "gridcolor": "#E1E5ED",
         "showgrid": true,
         "tickfont": {
          "color": "#4D5663"
         },
         "title": {
          "font": {
           "color": "#4D5663"
          },
          "text": ""
         },
         "zerolinecolor": "#E1E5ED"
        }
       }
      },
      "text/html": [
       "<div>                            <div id=\"0ca747af-2bb3-4025-ab16-7a3d6b110f77\" class=\"plotly-graph-div\" style=\"height:525px; width:100%;\"></div>            <script type=\"text/javascript\">                require([\"plotly\"], function(Plotly) {                    window.PLOTLYENV=window.PLOTLYENV || {};\n",
       "                    window.PLOTLYENV.BASE_URL='https://plot.ly';                                    if (document.getElementById(\"0ca747af-2bb3-4025-ab16-7a3d6b110f77\")) {                    Plotly.newPlot(                        \"0ca747af-2bb3-4025-ab16-7a3d6b110f77\",                        [{\"line\":{\"color\":\"rgba(255, 153, 51, 1.0)\",\"dash\":\"solid\",\"shape\":\"linear\",\"width\":1.3},\"mode\":\"lines\",\"name\":\"PM2.5\",\"text\":\"\",\"x\":[\"2020-01\",\"2020-02\",\"2020-03\",\"2020-04\",\"2020-05\",\"2020-06\",\"2020-07\",\"2020-08\",\"2020-09\",\"2020-10\",\"2020-11\",\"2020-12\",\"2021-01\",\"2021-02\",\"2021-03\",\"2021-04\",\"2021-05\",\"2021-06\",\"2021-07\",\"2021-08\",\"2021-09\",\"2021-10\",\"2021-11\",\"2021-12\",\"2022-01\",\"2022-02\",\"2022-03\",\"2022-04\",\"2022-05\",\"2022-06\",\"2022-07\",\"2022-08\",\"2022-09\",\"2022-10\",\"2022-11\",\"2022-12\"],\"y\":[96.6748360246797,70.94114628808758,60.00439850996234,53.11003425493027,56.87450501579427,54.73380137216021,50.89343470567507,49.32412954861107,55.40339115355827,78.50743186313045,102.66795820924432,106.54812403721253,105.60473406694868,91.28343390290664,76.40340694946906,65.52752244362374,56.15763180687937,55.61677684795286,47.089007071741605,47.04555265831042,44.536609363515666,64.70720690031594,117.64347622735944,104.63808652505665,97.01113200604232,77.38559837628485,72.07322475955056,65.24183572876215,56.41292103523456,47.63961615555269,36.79173510425627,33.1681188298452,36.320158493849696,63.36522193855087,92.96721950595696,103.35407788602559],\"type\":\"scatter\"}],                        {\"legend\":{\"bgcolor\":\"#F5F6F9\",\"font\":{\"color\":\"#4D5663\"}},\"paper_bgcolor\":\"#F5F6F9\",\"plot_bgcolor\":\"#F5F6F9\",\"template\":{\"data\":{\"barpolar\":[{\"marker\":{\"line\":{\"color\":\"#E5ECF6\",\"width\":0.5},\"pattern\":{\"fillmode\":\"overlay\",\"size\":10,\"solidity\":0.2}},\"type\":\"barpolar\"}],\"bar\":[{\"error_x\":{\"color\":\"#2a3f5f\"},\"error_y\":{\"color\":\"#2a3f5f\"},\"marker\":{\"line\":{\"color\":\"#E5ECF6\",\"width\":0.5},\"pattern\":{\"fillmode\":\"overlay\",\"size\":10,\"solidity\":0.2}},\"type\":\"bar\"}],\"carpet\":[{\"aaxis\":{\"endlinecolor\":\"#2a3f5f\",\"gridcolor\":\"white\",\"linecolor\":\"white\",\"minorgridcolor\":\"white\",\"startlinecolor\":\"#2a3f5f\"},\"baxis\":{\"endlinecolor\":\"#2a3f5f\",\"gridcolor\":\"white\",\"linecolor\":\"white\",\"minorgridcolor\":\"white\",\"startlinecolor\":\"#2a3f5f\"},\"type\":\"carpet\"}],\"choropleth\":[{\"colorbar\":{\"outlinewidth\":0,\"ticks\":\"\"},\"type\":\"choropleth\"}],\"contourcarpet\":[{\"colorbar\":{\"outlinewidth\":0,\"ticks\":\"\"},\"type\":\"contourcarpet\"}],\"contour\":[{\"colorbar\":{\"outlinewidth\":0,\"ticks\":\"\"},\"colorscale\":[[0.0,\"#0d0887\"],[0.1111111111111111,\"#46039f\"],[0.2222222222222222,\"#7201a8\"],[0.3333333333333333,\"#9c179e\"],[0.4444444444444444,\"#bd3786\"],[0.5555555555555556,\"#d8576b\"],[0.6666666666666666,\"#ed7953\"],[0.7777777777777778,\"#fb9f3a\"],[0.8888888888888888,\"#fdca26\"],[1.0,\"#f0f921\"]],\"type\":\"contour\"}],\"heatmapgl\":[{\"colorbar\":{\"outlinewidth\":0,\"ticks\":\"\"},\"colorscale\":[[0.0,\"#0d0887\"],[0.1111111111111111,\"#46039f\"],[0.2222222222222222,\"#7201a8\"],[0.3333333333333333,\"#9c179e\"],[0.4444444444444444,\"#bd3786\"],[0.5555555555555556,\"#d8576b\"],[0.6666666666666666,\"#ed7953\"],[0.7777777777777778,\"#fb9f3a\"],[0.8888888888888888,\"#fdca26\"],[1.0,\"#f0f921\"]],\"type\":\"heatmapgl\"}],\"heatmap\":[{\"colorbar\":{\"outlinewidth\":0,\"ticks\":\"\"},\"colorscale\":[[0.0,\"#0d0887\"],[0.1111111111111111,\"#46039f\"],[0.2222222222222222,\"#7201a8\"],[0.3333333333333333,\"#9c179e\"],[0.4444444444444444,\"#bd3786\"],[0.5555555555555556,\"#d8576b\"],[0.6666666666666666,\"#ed7953\"],[0.7777777777777778,\"#fb9f3a\"],[0.8888888888888888,\"#fdca26\"],[1.0,\"#f0f921\"]],\"type\":\"heatmap\"}],\"histogram2dcontour\":[{\"colorbar\":{\"outlinewidth\":0,\"ticks\":\"\"},\"colorscale\":[[0.0,\"#0d0887\"],[0.1111111111111111,\"#46039f\"],[0.2222222222222222,\"#7201a8\"],[0.3333333333333333,\"#9c179e\"],[0.4444444444444444,\"#bd3786\"],[0.5555555555555556,\"#d8576b\"],[0.6666666666666666,\"#ed7953\"],[0.7777777777777778,\"#fb9f3a\"],[0.8888888888888888,\"#fdca26\"],[1.0,\"#f0f921\"]],\"type\":\"histogram2dcontour\"}],\"histogram2d\":[{\"colorbar\":{\"outlinewidth\":0,\"ticks\":\"\"},\"colorscale\":[[0.0,\"#0d0887\"],[0.1111111111111111,\"#46039f\"],[0.2222222222222222,\"#7201a8\"],[0.3333333333333333,\"#9c179e\"],[0.4444444444444444,\"#bd3786\"],[0.5555555555555556,\"#d8576b\"],[0.6666666666666666,\"#ed7953\"],[0.7777777777777778,\"#fb9f3a\"],[0.8888888888888888,\"#fdca26\"],[1.0,\"#f0f921\"]],\"type\":\"histogram2d\"}],\"histogram\":[{\"marker\":{\"pattern\":{\"fillmode\":\"overlay\",\"size\":10,\"solidity\":0.2}},\"type\":\"histogram\"}],\"mesh3d\":[{\"colorbar\":{\"outlinewidth\":0,\"ticks\":\"\"},\"type\":\"mesh3d\"}],\"parcoords\":[{\"line\":{\"colorbar\":{\"outlinewidth\":0,\"ticks\":\"\"}},\"type\":\"parcoords\"}],\"pie\":[{\"automargin\":true,\"type\":\"pie\"}],\"scatter3d\":[{\"line\":{\"colorbar\":{\"outlinewidth\":0,\"ticks\":\"\"}},\"marker\":{\"colorbar\":{\"outlinewidth\":0,\"ticks\":\"\"}},\"type\":\"scatter3d\"}],\"scattercarpet\":[{\"marker\":{\"colorbar\":{\"outlinewidth\":0,\"ticks\":\"\"}},\"type\":\"scattercarpet\"}],\"scattergeo\":[{\"marker\":{\"colorbar\":{\"outlinewidth\":0,\"ticks\":\"\"}},\"type\":\"scattergeo\"}],\"scattergl\":[{\"marker\":{\"colorbar\":{\"outlinewidth\":0,\"ticks\":\"\"}},\"type\":\"scattergl\"}],\"scattermapbox\":[{\"marker\":{\"colorbar\":{\"outlinewidth\":0,\"ticks\":\"\"}},\"type\":\"scattermapbox\"}],\"scatterpolargl\":[{\"marker\":{\"colorbar\":{\"outlinewidth\":0,\"ticks\":\"\"}},\"type\":\"scatterpolargl\"}],\"scatterpolar\":[{\"marker\":{\"colorbar\":{\"outlinewidth\":0,\"ticks\":\"\"}},\"type\":\"scatterpolar\"}],\"scatter\":[{\"fillpattern\":{\"fillmode\":\"overlay\",\"size\":10,\"solidity\":0.2},\"type\":\"scatter\"}],\"scatterternary\":[{\"marker\":{\"colorbar\":{\"outlinewidth\":0,\"ticks\":\"\"}},\"type\":\"scatterternary\"}],\"surface\":[{\"colorbar\":{\"outlinewidth\":0,\"ticks\":\"\"},\"colorscale\":[[0.0,\"#0d0887\"],[0.1111111111111111,\"#46039f\"],[0.2222222222222222,\"#7201a8\"],[0.3333333333333333,\"#9c179e\"],[0.4444444444444444,\"#bd3786\"],[0.5555555555555556,\"#d8576b\"],[0.6666666666666666,\"#ed7953\"],[0.7777777777777778,\"#fb9f3a\"],[0.8888888888888888,\"#fdca26\"],[1.0,\"#f0f921\"]],\"type\":\"surface\"}],\"table\":[{\"cells\":{\"fill\":{\"color\":\"#EBF0F8\"},\"line\":{\"color\":\"white\"}},\"header\":{\"fill\":{\"color\":\"#C8D4E3\"},\"line\":{\"color\":\"white\"}},\"type\":\"table\"}]},\"layout\":{\"annotationdefaults\":{\"arrowcolor\":\"#2a3f5f\",\"arrowhead\":0,\"arrowwidth\":1},\"autotypenumbers\":\"strict\",\"coloraxis\":{\"colorbar\":{\"outlinewidth\":0,\"ticks\":\"\"}},\"colorscale\":{\"diverging\":[[0,\"#8e0152\"],[0.1,\"#c51b7d\"],[0.2,\"#de77ae\"],[0.3,\"#f1b6da\"],[0.4,\"#fde0ef\"],[0.5,\"#f7f7f7\"],[0.6,\"#e6f5d0\"],[0.7,\"#b8e186\"],[0.8,\"#7fbc41\"],[0.9,\"#4d9221\"],[1,\"#276419\"]],\"sequential\":[[0.0,\"#0d0887\"],[0.1111111111111111,\"#46039f\"],[0.2222222222222222,\"#7201a8\"],[0.3333333333333333,\"#9c179e\"],[0.4444444444444444,\"#bd3786\"],[0.5555555555555556,\"#d8576b\"],[0.6666666666666666,\"#ed7953\"],[0.7777777777777778,\"#fb9f3a\"],[0.8888888888888888,\"#fdca26\"],[1.0,\"#f0f921\"]],\"sequentialminus\":[[0.0,\"#0d0887\"],[0.1111111111111111,\"#46039f\"],[0.2222222222222222,\"#7201a8\"],[0.3333333333333333,\"#9c179e\"],[0.4444444444444444,\"#bd3786\"],[0.5555555555555556,\"#d8576b\"],[0.6666666666666666,\"#ed7953\"],[0.7777777777777778,\"#fb9f3a\"],[0.8888888888888888,\"#fdca26\"],[1.0,\"#f0f921\"]]},\"colorway\":[\"#636efa\",\"#EF553B\",\"#00cc96\",\"#ab63fa\",\"#FFA15A\",\"#19d3f3\",\"#FF6692\",\"#B6E880\",\"#FF97FF\",\"#FECB52\"],\"font\":{\"color\":\"#2a3f5f\"},\"geo\":{\"bgcolor\":\"white\",\"lakecolor\":\"white\",\"landcolor\":\"#E5ECF6\",\"showlakes\":true,\"showland\":true,\"subunitcolor\":\"white\"},\"hoverlabel\":{\"align\":\"left\"},\"hovermode\":\"closest\",\"mapbox\":{\"style\":\"light\"},\"paper_bgcolor\":\"white\",\"plot_bgcolor\":\"#E5ECF6\",\"polar\":{\"angularaxis\":{\"gridcolor\":\"white\",\"linecolor\":\"white\",\"ticks\":\"\"},\"bgcolor\":\"#E5ECF6\",\"radialaxis\":{\"gridcolor\":\"white\",\"linecolor\":\"white\",\"ticks\":\"\"}},\"scene\":{\"xaxis\":{\"backgroundcolor\":\"#E5ECF6\",\"gridcolor\":\"white\",\"gridwidth\":2,\"linecolor\":\"white\",\"showbackground\":true,\"ticks\":\"\",\"zerolinecolor\":\"white\"},\"yaxis\":{\"backgroundcolor\":\"#E5ECF6\",\"gridcolor\":\"white\",\"gridwidth\":2,\"linecolor\":\"white\",\"showbackground\":true,\"ticks\":\"\",\"zerolinecolor\":\"white\"},\"zaxis\":{\"backgroundcolor\":\"#E5ECF6\",\"gridcolor\":\"white\",\"gridwidth\":2,\"linecolor\":\"white\",\"showbackground\":true,\"ticks\":\"\",\"zerolinecolor\":\"white\"}},\"shapedefaults\":{\"line\":{\"color\":\"#2a3f5f\"}},\"ternary\":{\"aaxis\":{\"gridcolor\":\"white\",\"linecolor\":\"white\",\"ticks\":\"\"},\"baxis\":{\"gridcolor\":\"white\",\"linecolor\":\"white\",\"ticks\":\"\"},\"bgcolor\":\"#E5ECF6\",\"caxis\":{\"gridcolor\":\"white\",\"linecolor\":\"white\",\"ticks\":\"\"}},\"title\":{\"x\":0.05},\"xaxis\":{\"automargin\":true,\"gridcolor\":\"white\",\"linecolor\":\"white\",\"ticks\":\"\",\"title\":{\"standoff\":15},\"zerolinecolor\":\"white\",\"zerolinewidth\":2},\"yaxis\":{\"automargin\":true,\"gridcolor\":\"white\",\"linecolor\":\"white\",\"ticks\":\"\",\"title\":{\"standoff\":15},\"zerolinecolor\":\"white\",\"zerolinewidth\":2}}},\"title\":{\"font\":{\"color\":\"#4D5663\"}},\"xaxis\":{\"gridcolor\":\"#E1E5ED\",\"showgrid\":true,\"tickfont\":{\"color\":\"#4D5663\"},\"title\":{\"font\":{\"color\":\"#4D5663\"},\"text\":\"\"},\"zerolinecolor\":\"#E1E5ED\"},\"yaxis\":{\"gridcolor\":\"#E1E5ED\",\"showgrid\":true,\"tickfont\":{\"color\":\"#4D5663\"},\"title\":{\"font\":{\"color\":\"#4D5663\"},\"text\":\"\"},\"zerolinecolor\":\"#E1E5ED\"}},                        {\"showLink\": true, \"linkText\": \"Export to plot.ly\", \"plotlyServerURL\": \"https://plot.ly\", \"responsive\": true}                    ).then(function(){\n",
       "                            \n",
       "var gd = document.getElementById('0ca747af-2bb3-4025-ab16-7a3d6b110f77');\n",
       "var x = new MutationObserver(function (mutations, observer) {{\n",
       "        var display = window.getComputedStyle(gd).display;\n",
       "        if (!display || display === 'none') {{\n",
       "            console.log([gd, 'removed!']);\n",
       "            Plotly.purge(gd);\n",
       "            observer.disconnect();\n",
       "        }}\n",
       "}});\n",
       "\n",
       "// Listen for the removal of the full notebook cells\n",
       "var notebookContainer = gd.closest('#notebook-container');\n",
       "if (notebookContainer) {{\n",
       "    x.observe(notebookContainer, {childList: true});\n",
       "}}\n",
       "\n",
       "// Listen for the clearing of the current output cell\n",
       "var outputEl = gd.closest('.output');\n",
       "if (outputEl) {{\n",
       "    x.observe(outputEl, {childList: true});\n",
       "}}\n",
       "\n",
       "                        })                };                });            </script>        </div>"
      ]
     },
     "metadata": {},
     "output_type": "display_data"
    }
   ],
   "source": [
    "df3.iplot(kind='line')"
   ]
  },
  {
   "cell_type": "markdown",
   "id": "e4c530fb",
   "metadata": {},
   "source": [
    "### General trend of conc. of PM2.5 over the last 3 years"
   ]
  },
  {
   "cell_type": "markdown",
   "id": "9425e087",
   "metadata": {},
   "source": [
    "## Feature Engineering"
   ]
  },
  {
   "cell_type": "markdown",
   "id": "2e97e8ae",
   "metadata": {},
   "source": [
    "#### Ml model doesn't understand categorical value so we have to convert it into numeric value so that model can detect it ,so  we had used LabelEncoder method  "
   ]
  },
  {
   "cell_type": "code",
   "execution_count": 21,
   "id": "0195709b",
   "metadata": {},
   "outputs": [
    {
     "data": {
      "text/plain": [
       "array([ 8,  8,  8, ..., 25, 25, 25])"
      ]
     },
     "execution_count": 21,
     "metadata": {},
     "output_type": "execute_result"
    }
   ],
   "source": [
    "from sklearn.preprocessing import LabelEncoder\n",
    "le=LabelEncoder()\n",
    "data['City']=le.fit_transform(data['City'])\n",
    "data['City'].values"
   ]
  },
  {
   "cell_type": "markdown",
   "id": "c91ca342",
   "metadata": {},
   "source": [
    "#### Bell curve to detect the outlier data"
   ]
  },
  {
   "cell_type": "code",
   "execution_count": 50,
   "id": "cac50dfc",
   "metadata": {},
   "outputs": [
    {
     "data": {
      "text/plain": [
       "[<matplotlib.lines.Line2D at 0x2d8932d1be0>]"
      ]
     },
     "execution_count": 50,
     "metadata": {},
     "output_type": "execute_result"
    },
    {
     "data": {
      "image/png": "[encoded data removed]",
      "text/plain": [
       "<Figure size 640x480 with 1 Axes>"
      ]
     },
     "metadata": {},
     "output_type": "display_data"
    }
   ],
   "source": [
    "from scipy.stats import norm\n",
    "plt.hist(data['PM2.5'],bins=15)\n",
    "rng=np.arange(data['PM2.5'].max(),data['PM2.5'].min(),20)\n",
    "plt.plot(rng,norm.pdf(rng,data['PM2.5'].mean(),data['PM2.5'].std()),color='black')"
   ]
  },
  {
   "cell_type": "markdown",
   "id": "bf33f10d",
   "metadata": {},
   "source": [
    "### Outlier detection by Z score method"
   ]
  },
  {
   "cell_type": "code",
   "execution_count": 23,
   "id": "5d2f1d38",
   "metadata": {},
   "outputs": [
    {
     "data": {
      "text/html": [
       "<div>\n",
       "<style scoped>\n",
       "    .dataframe tbody tr th:only-of-type {\n",
       "        vertical-align: middle;\n",
       "    }\n",
       "\n",
       "    .dataframe tbody tr th {\n",
       "        vertical-align: top;\n",
       "    }\n",
       "\n",
       "    .dataframe thead th {\n",
       "        text-align: right;\n",
       "    }\n",
       "</style>\n",
       "<table border=\"1\" class=\"dataframe\">\n",
       "  <thead>\n",
       "    <tr style=\"text-align: right;\">\n",
       "      <th></th>\n",
       "      <th>PM2.5</th>\n",
       "      <th>NO</th>\n",
       "      <th>NO2</th>\n",
       "      <th>NOx</th>\n",
       "      <th>NH3</th>\n",
       "      <th>SO2</th>\n",
       "      <th>CO</th>\n",
       "      <th>Ozone</th>\n",
       "      <th>Benzene</th>\n",
       "      <th>Toluene</th>\n",
       "      <th>...</th>\n",
       "      <th>State</th>\n",
       "      <th>Time Periods</th>\n",
       "      <th>year</th>\n",
       "      <th>month</th>\n",
       "      <th>day</th>\n",
       "      <th>hour</th>\n",
       "      <th>mins</th>\n",
       "      <th>seconds</th>\n",
       "      <th>Month_Year</th>\n",
       "      <th>Z score</th>\n",
       "    </tr>\n",
       "  </thead>\n",
       "  <tbody>\n",
       "    <tr>\n",
       "      <th>3</th>\n",
       "      <td>186.603123</td>\n",
       "      <td>56.922094</td>\n",
       "      <td>114.142207</td>\n",
       "      <td>91.504524</td>\n",
       "      <td>78.964747</td>\n",
       "      <td>12.217971</td>\n",
       "      <td>1.405930</td>\n",
       "      <td>30.493537</td>\n",
       "      <td>3.884649</td>\n",
       "      <td>104.475114</td>\n",
       "      <td>...</td>\n",
       "      <td>Delhi</td>\n",
       "      <td>2020-01-01 12:00:00</td>\n",
       "      <td>2020</td>\n",
       "      <td>1</td>\n",
       "      <td>1</td>\n",
       "      <td>12</td>\n",
       "      <td>0</td>\n",
       "      <td>0</td>\n",
       "      <td>2020-01</td>\n",
       "      <td>1.973228</td>\n",
       "    </tr>\n",
       "    <tr>\n",
       "      <th>9</th>\n",
       "      <td>165.553108</td>\n",
       "      <td>53.630866</td>\n",
       "      <td>113.327242</td>\n",
       "      <td>86.641354</td>\n",
       "      <td>56.094949</td>\n",
       "      <td>16.946714</td>\n",
       "      <td>0.974595</td>\n",
       "      <td>28.187731</td>\n",
       "      <td>4.256076</td>\n",
       "      <td>25.984202</td>\n",
       "      <td>...</td>\n",
       "      <td>Delhi</td>\n",
       "      <td>2020-01-02 12:00:00</td>\n",
       "      <td>2020</td>\n",
       "      <td>1</td>\n",
       "      <td>2</td>\n",
       "      <td>12</td>\n",
       "      <td>0</td>\n",
       "      <td>0</td>\n",
       "      <td>2020-01</td>\n",
       "      <td>1.619376</td>\n",
       "    </tr>\n",
       "    <tr>\n",
       "      <th>15</th>\n",
       "      <td>92.185720</td>\n",
       "      <td>24.911257</td>\n",
       "      <td>92.671917</td>\n",
       "      <td>40.270529</td>\n",
       "      <td>49.072722</td>\n",
       "      <td>11.154987</td>\n",
       "      <td>0.747843</td>\n",
       "      <td>30.296248</td>\n",
       "      <td>2.249777</td>\n",
       "      <td>53.010411</td>\n",
       "      <td>...</td>\n",
       "      <td>Delhi</td>\n",
       "      <td>2020-01-03 12:00:00</td>\n",
       "      <td>2020</td>\n",
       "      <td>1</td>\n",
       "      <td>3</td>\n",
       "      <td>12</td>\n",
       "      <td>0</td>\n",
       "      <td>0</td>\n",
       "      <td>2020-01</td>\n",
       "      <td>0.386066</td>\n",
       "    </tr>\n",
       "    <tr>\n",
       "      <th>16</th>\n",
       "      <td>159.028739</td>\n",
       "      <td>57.591632</td>\n",
       "      <td>120.880935</td>\n",
       "      <td>94.457180</td>\n",
       "      <td>65.586151</td>\n",
       "      <td>12.648347</td>\n",
       "      <td>2.269952</td>\n",
       "      <td>13.222886</td>\n",
       "      <td>3.761212</td>\n",
       "      <td>28.283128</td>\n",
       "      <td>...</td>\n",
       "      <td>Delhi</td>\n",
       "      <td>2020-01-03 16:00:00</td>\n",
       "      <td>2020</td>\n",
       "      <td>1</td>\n",
       "      <td>3</td>\n",
       "      <td>16</td>\n",
       "      <td>0</td>\n",
       "      <td>0</td>\n",
       "      <td>2020-01</td>\n",
       "      <td>1.509701</td>\n",
       "    </tr>\n",
       "    <tr>\n",
       "      <th>21</th>\n",
       "      <td>186.187376</td>\n",
       "      <td>43.063070</td>\n",
       "      <td>104.366984</td>\n",
       "      <td>77.577280</td>\n",
       "      <td>62.636366</td>\n",
       "      <td>8.685873</td>\n",
       "      <td>0.731913</td>\n",
       "      <td>35.031360</td>\n",
       "      <td>4.525784</td>\n",
       "      <td>63.176970</td>\n",
       "      <td>...</td>\n",
       "      <td>Delhi</td>\n",
       "      <td>2020-01-04 12:00:00</td>\n",
       "      <td>2020</td>\n",
       "      <td>1</td>\n",
       "      <td>4</td>\n",
       "      <td>12</td>\n",
       "      <td>0</td>\n",
       "      <td>0</td>\n",
       "      <td>2020-01</td>\n",
       "      <td>1.966239</td>\n",
       "    </tr>\n",
       "  </tbody>\n",
       "</table>\n",
       "<p>5 rows × 21 columns</p>\n",
       "</div>"
      ],
      "text/plain": [
       "         PM2.5         NO         NO2        NOx        NH3        SO2  \\\n",
       "3   186.603123  56.922094  114.142207  91.504524  78.964747  12.217971   \n",
       "9   165.553108  53.630866  113.327242  86.641354  56.094949  16.946714   \n",
       "15   92.185720  24.911257   92.671917  40.270529  49.072722  11.154987   \n",
       "16  159.028739  57.591632  120.880935  94.457180  65.586151  12.648347   \n",
       "21  186.187376  43.063070  104.366984  77.577280  62.636366   8.685873   \n",
       "\n",
       "          CO      Ozone   Benzene     Toluene  ...  State        Time Periods  \\\n",
       "3   1.405930  30.493537  3.884649  104.475114  ...  Delhi 2020-01-01 12:00:00   \n",
       "9   0.974595  28.187731  4.256076   25.984202  ...  Delhi 2020-01-02 12:00:00   \n",
       "15  0.747843  30.296248  2.249777   53.010411  ...  Delhi 2020-01-03 12:00:00   \n",
       "16  2.269952  13.222886  3.761212   28.283128  ...  Delhi 2020-01-03 16:00:00   \n",
       "21  0.731913  35.031360  4.525784   63.176970  ...  Delhi 2020-01-04 12:00:00   \n",
       "\n",
       "    year  month  day  hour  mins  seconds  Month_Year   Z score  \n",
       "3   2020      1    1    12     0        0     2020-01  1.973228  \n",
       "9   2020      1    2    12     0        0     2020-01  1.619376  \n",
       "15  2020      1    3    12     0        0     2020-01  0.386066  \n",
       "16  2020      1    3    16     0        0     2020-01  1.509701  \n",
       "21  2020      1    4    12     0        0     2020-01  1.966239  \n",
       "\n",
       "[5 rows x 21 columns]"
      ]
     },
     "execution_count": 23,
     "metadata": {},
     "output_type": "execute_result"
    }
   ],
   "source": [
    "# Outlier detection by Z score method\n",
    "data['Z score']=(data['PM2.5']-data['PM2.5'].mean())/data['PM2.5'].std()\n",
    "data=data[(data['Z score']>-3) & (data['Z score'] <3)]\n",
    "data.head()"
   ]
  },
  {
   "cell_type": "markdown",
   "id": "e4fbbc03",
   "metadata": {},
   "source": [
    "#### Scaling of the Data"
   ]
  },
  {
   "cell_type": "code",
   "execution_count": 24,
   "id": "64bea5a0",
   "metadata": {},
   "outputs": [],
   "source": [
    "# from sklearn.preprocessing import StandardScaler\n",
    "# scaler=StandardScaler()\n",
    "# scaler.fit(data.drop(['PM2.5','State','Time Periods'],axis=1))\n",
    "# scaled_features=scaler.transform(data.drop(['PM2.5','State','Time Periods'],axis=1))\n",
    "# X_scaled=pd.DataFrame(scaled_features,columns=['NO', 'NO2', 'NOx', 'NH3', 'SO2', 'CO', 'Ozone', 'Benzene', 'Toluene',\n",
    "#        'City', 'year', 'month', 'day', 'hour', 'mins', 'seconds'])\n",
    "# X_scaled.head()\n",
    "\n",
    "\n",
    "#ig no need of scallling\n",
    "# from sklearn.preprocessing import StandardScaler\n",
    "# scaler=StandardScaler()\n",
    "# scaler.fit(data.drop(['PM2.5','State','Time Periods','NO','NO2','NOx','NH3','SO2','CO','Ozone','Benzene','Toluene'],axis=1))\n",
    "# scaled_features=scaler.transform(data.drop(['PM2.5','State','Time Periods','NO','NO2','NOx','NH3','SO2','CO','Ozone','Benzene','Toluene'],axis=1))\n",
    "# X_scaled=pd.DataFrame(scaled_features,columns=['City', 'year', 'month', 'day', 'hour', 'mins', 'seconds'])\n",
    "\n",
    "\n",
    "# #Scaling removed by adding the original data\n",
    "# X_scaled = data.drop(['PM2.5','State','Time Periods','NO','NO2','NOx','NH3','SO2','CO','Ozone','Benzene','Toluene','Z score','Month_Year'], axis=1)\n",
    "# X_scaled.head()"
   ]
  },
  {
   "cell_type": "markdown",
   "id": "0457e924",
   "metadata": {},
   "source": [
    "## Machine Learning Model"
   ]
  },
  {
   "cell_type": "markdown",
   "id": "6dab4225",
   "metadata": {},
   "source": [
    "#### Selecting target values and parametric values for the model"
   ]
  },
  {
   "cell_type": "code",
   "execution_count": 25,
   "id": "38989271",
   "metadata": {},
   "outputs": [
    {
     "data": {
      "text/html": [
       "<div>\n",
       "<style scoped>\n",
       "    .dataframe tbody tr th:only-of-type {\n",
       "        vertical-align: middle;\n",
       "    }\n",
       "\n",
       "    .dataframe tbody tr th {\n",
       "        vertical-align: top;\n",
       "    }\n",
       "\n",
       "    .dataframe thead th {\n",
       "        text-align: right;\n",
       "    }\n",
       "</style>\n",
       "<table border=\"1\" class=\"dataframe\">\n",
       "  <thead>\n",
       "    <tr style=\"text-align: right;\">\n",
       "      <th></th>\n",
       "      <th>City</th>\n",
       "      <th>year</th>\n",
       "      <th>month</th>\n",
       "      <th>day</th>\n",
       "      <th>hour</th>\n",
       "      <th>mins</th>\n",
       "      <th>seconds</th>\n",
       "    </tr>\n",
       "  </thead>\n",
       "  <tbody>\n",
       "    <tr>\n",
       "      <th>3</th>\n",
       "      <td>8</td>\n",
       "      <td>2020</td>\n",
       "      <td>1</td>\n",
       "      <td>1</td>\n",
       "      <td>12</td>\n",
       "      <td>0</td>\n",
       "      <td>0</td>\n",
       "    </tr>\n",
       "    <tr>\n",
       "      <th>9</th>\n",
       "      <td>8</td>\n",
       "      <td>2020</td>\n",
       "      <td>1</td>\n",
       "      <td>2</td>\n",
       "      <td>12</td>\n",
       "      <td>0</td>\n",
       "      <td>0</td>\n",
       "    </tr>\n",
       "    <tr>\n",
       "      <th>15</th>\n",
       "      <td>8</td>\n",
       "      <td>2020</td>\n",
       "      <td>1</td>\n",
       "      <td>3</td>\n",
       "      <td>12</td>\n",
       "      <td>0</td>\n",
       "      <td>0</td>\n",
       "    </tr>\n",
       "    <tr>\n",
       "      <th>16</th>\n",
       "      <td>8</td>\n",
       "      <td>2020</td>\n",
       "      <td>1</td>\n",
       "      <td>3</td>\n",
       "      <td>16</td>\n",
       "      <td>0</td>\n",
       "      <td>0</td>\n",
       "    </tr>\n",
       "    <tr>\n",
       "      <th>21</th>\n",
       "      <td>8</td>\n",
       "      <td>2020</td>\n",
       "      <td>1</td>\n",
       "      <td>4</td>\n",
       "      <td>12</td>\n",
       "      <td>0</td>\n",
       "      <td>0</td>\n",
       "    </tr>\n",
       "    <tr>\n",
       "      <th>...</th>\n",
       "      <td>...</td>\n",
       "      <td>...</td>\n",
       "      <td>...</td>\n",
       "      <td>...</td>\n",
       "      <td>...</td>\n",
       "      <td>...</td>\n",
       "      <td>...</td>\n",
       "    </tr>\n",
       "    <tr>\n",
       "      <th>223579</th>\n",
       "      <td>25</td>\n",
       "      <td>2022</td>\n",
       "      <td>12</td>\n",
       "      <td>31</td>\n",
       "      <td>4</td>\n",
       "      <td>0</td>\n",
       "      <td>0</td>\n",
       "    </tr>\n",
       "    <tr>\n",
       "      <th>223580</th>\n",
       "      <td>25</td>\n",
       "      <td>2022</td>\n",
       "      <td>12</td>\n",
       "      <td>31</td>\n",
       "      <td>8</td>\n",
       "      <td>0</td>\n",
       "      <td>0</td>\n",
       "    </tr>\n",
       "    <tr>\n",
       "      <th>223581</th>\n",
       "      <td>25</td>\n",
       "      <td>2022</td>\n",
       "      <td>12</td>\n",
       "      <td>31</td>\n",
       "      <td>12</td>\n",
       "      <td>0</td>\n",
       "      <td>0</td>\n",
       "    </tr>\n",
       "    <tr>\n",
       "      <th>223582</th>\n",
       "      <td>25</td>\n",
       "      <td>2022</td>\n",
       "      <td>12</td>\n",
       "      <td>31</td>\n",
       "      <td>16</td>\n",
       "      <td>0</td>\n",
       "      <td>0</td>\n",
       "    </tr>\n",
       "    <tr>\n",
       "      <th>223583</th>\n",
       "      <td>25</td>\n",
       "      <td>2022</td>\n",
       "      <td>12</td>\n",
       "      <td>31</td>\n",
       "      <td>20</td>\n",
       "      <td>0</td>\n",
       "      <td>0</td>\n",
       "    </tr>\n",
       "  </tbody>\n",
       "</table>\n",
       "<p>219838 rows × 7 columns</p>\n",
       "</div>"
      ],
      "text/plain": [
       "        City  year  month  day  hour  mins  seconds\n",
       "3          8  2020      1    1    12     0        0\n",
       "9          8  2020      1    2    12     0        0\n",
       "15         8  2020      1    3    12     0        0\n",
       "16         8  2020      1    3    16     0        0\n",
       "21         8  2020      1    4    12     0        0\n",
       "...      ...   ...    ...  ...   ...   ...      ...\n",
       "223579    25  2022     12   31     4     0        0\n",
       "223580    25  2022     12   31     8     0        0\n",
       "223581    25  2022     12   31    12     0        0\n",
       "223582    25  2022     12   31    16     0        0\n",
       "223583    25  2022     12   31    20     0        0\n",
       "\n",
       "[219838 rows x 7 columns]"
      ]
     },
     "execution_count": 25,
     "metadata": {},
     "output_type": "execute_result"
    }
   ],
   "source": [
    "\n",
    "X=data.drop(['PM2.5','State','Time Periods','NO','NO2','NOx','NH3','SO2','CO','Ozone','Benzene','Toluene','Z score','Month_Year'],axis=1)\n",
    "y=data['PM2.5']\n",
    "X"
   ]
  },
  {
   "cell_type": "markdown",
   "id": "46202300",
   "metadata": {},
   "source": [
    "#### Spliting the sample for training and testing the model"
   ]
  },
  {
   "cell_type": "code",
   "execution_count": 26,
   "id": "131be1df",
   "metadata": {},
   "outputs": [],
   "source": [
    "from sklearn.model_selection import train_test_split\n",
    "X_train,X_test,y_train,y_test=train_test_split(X,y,test_size=0.2,random_state=10)"
   ]
  },
  {
   "cell_type": "markdown",
   "id": "45824134",
   "metadata": {},
   "source": [
    "### Training the Random Forest Model"
   ]
  },
  {
   "cell_type": "code",
   "execution_count": 52,
   "id": "947ab8fd",
   "metadata": {},
   "outputs": [],
   "source": [
    "from sklearn.ensemble import RandomForestRegressor\n",
    "rfr=RandomForestRegressor(n_estimators=10)\n",
    "rfr.fit(X_train,y_train)\n",
    "predc=rfr.predict(X_test)"
   ]
  },
  {
   "cell_type": "code",
   "execution_count": 53,
   "id": "accd066a",
   "metadata": {},
   "outputs": [],
   "source": [
    "train_pred=rfr.predict(X_train)\n",
    "test_pred=rfr.predict(X_test)"
   ]
  },
  {
   "cell_type": "code",
   "execution_count": 54,
   "id": "ac09fda2",
   "metadata": {},
   "outputs": [
    {
     "name": "stdout",
     "output_type": "stream",
     "text": [
      "RMSE Training data = 7.2518351941718215\n",
      "RMSE Test Data =  17.218191092594566\n",
      "Rsquared error value for train data =  0.9755897877016715\n",
      "Rsquared error value for test data =  0.8613226559821865\n"
     ]
    }
   ],
   "source": [
    "RMSE_train=(np.sqrt(mean_squared_error(y_train,train_pred)))\n",
    "RMSE_test=(np.sqrt(mean_squared_error(y_test,test_pred)))\n",
    "print(\"RMSE Training data =\" ,RMSE_train)\n",
    "print(\"RMSE Test Data = \",RMSE_test)\n",
    "print(\"Rsquared error value for train data = \",rfr.score(X_train,y_train))\n",
    "print(\"Rsquared error value for test data = \",rfr.score(X_test,y_test))"
   ]
  },
  {
   "cell_type": "code",
   "execution_count": 55,
   "id": "d58da394",
   "metadata": {},
   "outputs": [
    {
     "data": {
      "text/plain": [
       "0.8613226559821865"
      ]
     },
     "execution_count": 55,
     "metadata": {},
     "output_type": "execute_result"
    }
   ],
   "source": [
    "rfr.score(X_test,y_test)"
   ]
  },
  {
   "cell_type": "code",
   "execution_count": 56,
   "id": "e6151cd3",
   "metadata": {},
   "outputs": [
    {
     "data": {
      "text/plain": [
       "<matplotlib.collections.PathCollection at 0x2d893dacfd0>"
      ]
     },
     "execution_count": 56,
     "metadata": {},
     "output_type": "execute_result"
    },
    {
     "data": {
      "image/png": "[encoded data removed]",
      "text/plain": [
       "<Figure size 640x480 with 1 Axes>"
      ]
     },
     "metadata": {},
     "output_type": "display_data"
    }
   ],
   "source": [
    "plt.scatter(y_test,predc)"
   ]
  },
  {
   "cell_type": "markdown",
   "id": "d0243b2f",
   "metadata": {},
   "source": [
    "### Training the Linear Regression Model"
   ]
  },
  {
   "cell_type": "code",
   "execution_count": 32,
   "id": "b41e68bb",
   "metadata": {},
   "outputs": [],
   "source": [
    "from sklearn.linear_model import LinearRegression\n",
    "lm=LinearRegression()\n",
    "lm.fit(X_train,y_train)\n",
    "pred=lm.predict(X_test)"
   ]
  },
  {
   "cell_type": "code",
   "execution_count": 33,
   "id": "56af400a",
   "metadata": {},
   "outputs": [],
   "source": [
    "train_pred=lm.predict(X_train)\n",
    "test_pred=lm.predict(X_test)"
   ]
  },
  {
   "cell_type": "code",
   "execution_count": 34,
   "id": "bae1f51d",
   "metadata": {},
   "outputs": [
    {
     "name": "stdout",
     "output_type": "stream",
     "text": [
      "RMSE Training data = 46.33329594874723\n",
      "RMSE Test Data =  46.16438352508743\n",
      "Rsquared error value for train data =  0.0035348938573963595\n",
      "Rsquared error value for test data =  0.0031161752166192214\n"
     ]
    }
   ],
   "source": [
    "RMSE_train=(np.sqrt(mean_squared_error(y_train,train_pred)))\n",
    "RMSE_test=(np.sqrt(mean_squared_error(y_test,test_pred)))\n",
    "print(\"RMSE Training data =\" ,RMSE_train)\n",
    "print(\"RMSE Test Data = \",RMSE_test)\n",
    "print(\"Rsquared error value for train data = \",lm.score(X_train,y_train))\n",
    "print(\"Rsquared error value for test data = \",lm.score(X_test,y_test))"
   ]
  },
  {
   "cell_type": "code",
   "execution_count": 35,
   "id": "15c9e8e8",
   "metadata": {
    "scrolled": false
   },
   "outputs": [
    {
     "data": {
      "text/plain": [
       "<matplotlib.collections.PathCollection at 0x2d88aaf5e50>"
      ]
     },
     "execution_count": 35,
     "metadata": {},
     "output_type": "execute_result"
    },
    {
     "data": {
      "image/png": "[encoded data removed]",
      "text/plain": [
       "<Figure size 640x480 with 1 Axes>"
      ]
     },
     "metadata": {},
     "output_type": "display_data"
    }
   ],
   "source": [
    "plt.scatter(y_test,pred)"
   ]
  },
  {
   "cell_type": "code",
   "execution_count": 36,
   "id": "a17ec653",
   "metadata": {},
   "outputs": [
    {
     "data": {
      "text/plain": [
       "0.0031161752166192214"
      ]
     },
     "execution_count": 36,
     "metadata": {},
     "output_type": "execute_result"
    }
   ],
   "source": [
    "lm.score(X_test,y_test)"
   ]
  },
  {
   "cell_type": "markdown",
   "id": "2e306538",
   "metadata": {},
   "source": [
    "### Decision Tree Regressor Model"
   ]
  },
  {
   "cell_type": "code",
   "execution_count": 37,
   "id": "74529b60",
   "metadata": {},
   "outputs": [
    {
     "data": {
      "text/plain": [
       "array([ 49.24387545,  62.21852302,  29.1631178 , ..., 127.75654618,\n",
       "        11.47885269,  25.51634183])"
      ]
     },
     "execution_count": 37,
     "metadata": {},
     "output_type": "execute_result"
    }
   ],
   "source": [
    "from sklearn.tree import DecisionTreeRegressor\n",
    "dtr=DecisionTreeRegressor()\n",
    "dtr.fit(X_train,y_train)\n",
    "predct=dtr.predict(X_test)\n",
    "predct"
   ]
  },
  {
   "cell_type": "code",
   "execution_count": 38,
   "id": "bd4aa186",
   "metadata": {},
   "outputs": [
    {
     "data": {
      "text/plain": [
       "0.7975397275128658"
      ]
     },
     "execution_count": 38,
     "metadata": {},
     "output_type": "execute_result"
    }
   ],
   "source": [
    "dtr.score(X_test,y_test)"
   ]
  },
  {
   "cell_type": "code",
   "execution_count": 39,
   "id": "044a454f",
   "metadata": {},
   "outputs": [],
   "source": [
    "train_pred=dtr.predict(X_train)\n",
    "test_pred=dtr.predict(X_test)"
   ]
  },
  {
   "cell_type": "code",
   "execution_count": 40,
   "id": "b6a5c4e5",
   "metadata": {},
   "outputs": [
    {
     "name": "stdout",
     "output_type": "stream",
     "text": [
      "RMSE Training data = 4.628054539985688e-10\n",
      "RMSE Test Data =  20.80437504395754\n",
      "Rsquared error value for train data =  1.0\n",
      "Rsquared error value for test data =  0.7975397275128658\n"
     ]
    }
   ],
   "source": [
    "RMSE_train=(np.sqrt(mean_squared_error(y_train,train_pred)))\n",
    "RMSE_test=(np.sqrt(mean_squared_error(y_test,test_pred)))\n",
    "print(\"RMSE Training data =\" ,RMSE_train)\n",
    "print(\"RMSE Test Data = \",RMSE_test)\n",
    "print(\"Rsquared error value for train data = \",dtr.score(X_train,y_train))\n",
    "print(\"Rsquared error value for test data = \",dtr.score(X_test,y_test))"
   ]
  },
  {
   "cell_type": "markdown",
   "id": "7eff0111",
   "metadata": {},
   "source": [
    "### From the above three model, we can see that random forest Regressor gives the highest accuracy , So we will prefer Random Forest Regressor as a prediction model"
   ]
  },
  {
   "cell_type": "markdown",
   "id": "2d869688",
   "metadata": {},
   "source": [
    "## Predicting the PM2.5 conc. value for the given questionarrie database"
   ]
  },
  {
   "cell_type": "markdown",
   "id": "2211518b",
   "metadata": {},
   "source": [
    "#### Extracting the data from the submission template file"
   ]
  },
  {
   "cell_type": "code",
   "execution_count": 186,
   "id": "567d2767",
   "metadata": {},
   "outputs": [],
   "source": [
    "df1=pd.read_excel('Round1a_Submission_Template.xlsx')"
   ]
  },
  {
   "cell_type": "code",
   "execution_count": 187,
   "id": "8f88c12b",
   "metadata": {},
   "outputs": [
    {
     "data": {
      "text/html": [
       "<div>\n",
       "<style scoped>\n",
       "    .dataframe tbody tr th:only-of-type {\n",
       "        vertical-align: middle;\n",
       "    }\n",
       "\n",
       "    .dataframe tbody tr th {\n",
       "        vertical-align: top;\n",
       "    }\n",
       "\n",
       "    .dataframe thead th {\n",
       "        text-align: right;\n",
       "    }\n",
       "</style>\n",
       "<table border=\"1\" class=\"dataframe\">\n",
       "  <thead>\n",
       "    <tr style=\"text-align: right;\">\n",
       "      <th></th>\n",
       "      <th>ID</th>\n",
       "      <th>City</th>\n",
       "      <th>Time Periods</th>\n",
       "      <th>PM2.5_Prediction</th>\n",
       "    </tr>\n",
       "  </thead>\n",
       "  <tbody>\n",
       "    <tr>\n",
       "      <th>0</th>\n",
       "      <td>1</td>\n",
       "      <td>Delhi</td>\n",
       "      <td>2023-01-01 00:00:00</td>\n",
       "      <td>NaN</td>\n",
       "    </tr>\n",
       "    <tr>\n",
       "      <th>1</th>\n",
       "      <td>2</td>\n",
       "      <td>Delhi</td>\n",
       "      <td>2023-01-01 04:00:00</td>\n",
       "      <td>NaN</td>\n",
       "    </tr>\n",
       "    <tr>\n",
       "      <th>2</th>\n",
       "      <td>3</td>\n",
       "      <td>Delhi</td>\n",
       "      <td>2023-01-01 08:00:00</td>\n",
       "      <td>NaN</td>\n",
       "    </tr>\n",
       "    <tr>\n",
       "      <th>3</th>\n",
       "      <td>4</td>\n",
       "      <td>Delhi</td>\n",
       "      <td>2023-01-01 12:00:00</td>\n",
       "      <td>NaN</td>\n",
       "    </tr>\n",
       "    <tr>\n",
       "      <th>4</th>\n",
       "      <td>5</td>\n",
       "      <td>Delhi</td>\n",
       "      <td>2023-01-01 16:00:00</td>\n",
       "      <td>NaN</td>\n",
       "    </tr>\n",
       "    <tr>\n",
       "      <th>...</th>\n",
       "      <td>...</td>\n",
       "      <td>...</td>\n",
       "      <td>...</td>\n",
       "      <td>...</td>\n",
       "    </tr>\n",
       "    <tr>\n",
       "      <th>607</th>\n",
       "      <td>608</td>\n",
       "      <td>Bhilai</td>\n",
       "      <td>2023-03-01 04:00:00</td>\n",
       "      <td>NaN</td>\n",
       "    </tr>\n",
       "    <tr>\n",
       "      <th>608</th>\n",
       "      <td>609</td>\n",
       "      <td>Bhilai</td>\n",
       "      <td>2023-03-01 08:00:00</td>\n",
       "      <td>NaN</td>\n",
       "    </tr>\n",
       "    <tr>\n",
       "      <th>609</th>\n",
       "      <td>610</td>\n",
       "      <td>Bhilai</td>\n",
       "      <td>2023-03-01 12:00:00</td>\n",
       "      <td>NaN</td>\n",
       "    </tr>\n",
       "    <tr>\n",
       "      <th>610</th>\n",
       "      <td>611</td>\n",
       "      <td>Bhilai</td>\n",
       "      <td>2023-03-01 16:00:00</td>\n",
       "      <td>NaN</td>\n",
       "    </tr>\n",
       "    <tr>\n",
       "      <th>611</th>\n",
       "      <td>612</td>\n",
       "      <td>Bhilai</td>\n",
       "      <td>2023-03-01 20:00:00</td>\n",
       "      <td>NaN</td>\n",
       "    </tr>\n",
       "  </tbody>\n",
       "</table>\n",
       "<p>612 rows × 4 columns</p>\n",
       "</div>"
      ],
      "text/plain": [
       "      ID    City        Time Periods  PM2.5_Prediction\n",
       "0      1   Delhi 2023-01-01 00:00:00               NaN\n",
       "1      2   Delhi 2023-01-01 04:00:00               NaN\n",
       "2      3   Delhi 2023-01-01 08:00:00               NaN\n",
       "3      4   Delhi 2023-01-01 12:00:00               NaN\n",
       "4      5   Delhi 2023-01-01 16:00:00               NaN\n",
       "..   ...     ...                 ...               ...\n",
       "607  608  Bhilai 2023-03-01 04:00:00               NaN\n",
       "608  609  Bhilai 2023-03-01 08:00:00               NaN\n",
       "609  610  Bhilai 2023-03-01 12:00:00               NaN\n",
       "610  611  Bhilai 2023-03-01 16:00:00               NaN\n",
       "611  612  Bhilai 2023-03-01 20:00:00               NaN\n",
       "\n",
       "[612 rows x 4 columns]"
      ]
     },
     "execution_count": 187,
     "metadata": {},
     "output_type": "execute_result"
    }
   ],
   "source": [
    "df1"
   ]
  },
  {
   "cell_type": "code",
   "execution_count": 188,
   "id": "a65874f0",
   "metadata": {},
   "outputs": [],
   "source": [
    "df1['Time Periods']=pd.to_datetime(df1['Time Periods'])\n",
    "df1['year']=df1['Time Periods'].dt.year\n",
    "df1['month']=df1['Time Periods'].dt.month\n",
    "df1['day']=df1['Time Periods'].dt.day\n",
    "df1['hour']=df1['Time Periods'].dt.hour\n",
    "df1['mins']=df1['Time Periods'].dt.minute\n",
    "df1['seconds']=df1['Time Periods'].dt.second\n"
   ]
  },
  {
   "cell_type": "code",
   "execution_count": 189,
   "id": "e7955b4d",
   "metadata": {},
   "outputs": [
    {
     "data": {
      "text/html": [
       "<div>\n",
       "<style scoped>\n",
       "    .dataframe tbody tr th:only-of-type {\n",
       "        vertical-align: middle;\n",
       "    }\n",
       "\n",
       "    .dataframe tbody tr th {\n",
       "        vertical-align: top;\n",
       "    }\n",
       "\n",
       "    .dataframe thead th {\n",
       "        text-align: right;\n",
       "    }\n",
       "</style>\n",
       "<table border=\"1\" class=\"dataframe\">\n",
       "  <thead>\n",
       "    <tr style=\"text-align: right;\">\n",
       "      <th></th>\n",
       "      <th>ID</th>\n",
       "      <th>City</th>\n",
       "      <th>Time Periods</th>\n",
       "      <th>PM2.5_Prediction</th>\n",
       "      <th>year</th>\n",
       "      <th>month</th>\n",
       "      <th>day</th>\n",
       "      <th>hour</th>\n",
       "      <th>mins</th>\n",
       "      <th>seconds</th>\n",
       "    </tr>\n",
       "  </thead>\n",
       "  <tbody>\n",
       "    <tr>\n",
       "      <th>0</th>\n",
       "      <td>1</td>\n",
       "      <td>8</td>\n",
       "      <td>2023-01-01 00:00:00</td>\n",
       "      <td>NaN</td>\n",
       "      <td>2023</td>\n",
       "      <td>1</td>\n",
       "      <td>1</td>\n",
       "      <td>0</td>\n",
       "      <td>0</td>\n",
       "      <td>0</td>\n",
       "    </tr>\n",
       "    <tr>\n",
       "      <th>1</th>\n",
       "      <td>2</td>\n",
       "      <td>8</td>\n",
       "      <td>2023-01-01 04:00:00</td>\n",
       "      <td>NaN</td>\n",
       "      <td>2023</td>\n",
       "      <td>1</td>\n",
       "      <td>1</td>\n",
       "      <td>4</td>\n",
       "      <td>0</td>\n",
       "      <td>0</td>\n",
       "    </tr>\n",
       "    <tr>\n",
       "      <th>2</th>\n",
       "      <td>3</td>\n",
       "      <td>8</td>\n",
       "      <td>2023-01-01 08:00:00</td>\n",
       "      <td>NaN</td>\n",
       "      <td>2023</td>\n",
       "      <td>1</td>\n",
       "      <td>1</td>\n",
       "      <td>8</td>\n",
       "      <td>0</td>\n",
       "      <td>0</td>\n",
       "    </tr>\n",
       "    <tr>\n",
       "      <th>3</th>\n",
       "      <td>4</td>\n",
       "      <td>8</td>\n",
       "      <td>2023-01-01 12:00:00</td>\n",
       "      <td>NaN</td>\n",
       "      <td>2023</td>\n",
       "      <td>1</td>\n",
       "      <td>1</td>\n",
       "      <td>12</td>\n",
       "      <td>0</td>\n",
       "      <td>0</td>\n",
       "    </tr>\n",
       "    <tr>\n",
       "      <th>4</th>\n",
       "      <td>5</td>\n",
       "      <td>8</td>\n",
       "      <td>2023-01-01 16:00:00</td>\n",
       "      <td>NaN</td>\n",
       "      <td>2023</td>\n",
       "      <td>1</td>\n",
       "      <td>1</td>\n",
       "      <td>16</td>\n",
       "      <td>0</td>\n",
       "      <td>0</td>\n",
       "    </tr>\n",
       "  </tbody>\n",
       "</table>\n",
       "</div>"
      ],
      "text/plain": [
       "   ID  City        Time Periods  PM2.5_Prediction  year  month  day  hour  \\\n",
       "0   1     8 2023-01-01 00:00:00               NaN  2023      1    1     0   \n",
       "1   2     8 2023-01-01 04:00:00               NaN  2023      1    1     4   \n",
       "2   3     8 2023-01-01 08:00:00               NaN  2023      1    1     8   \n",
       "3   4     8 2023-01-01 12:00:00               NaN  2023      1    1    12   \n",
       "4   5     8 2023-01-01 16:00:00               NaN  2023      1    1    16   \n",
       "\n",
       "   mins  seconds  \n",
       "0     0        0  \n",
       "1     0        0  \n",
       "2     0        0  \n",
       "3     0        0  \n",
       "4     0        0  "
      ]
     },
     "execution_count": 189,
     "metadata": {},
     "output_type": "execute_result"
    }
   ],
   "source": [
    "from sklearn.preprocessing import LabelEncoder\n",
    "le=LabelEncoder()\n",
    "df1['City']=le.fit_transform(df1['City'])\n",
    "df1.values\n",
    "df1.head()"
   ]
  },
  {
   "cell_type": "code",
   "execution_count": 190,
   "id": "e0fbf3ec",
   "metadata": {},
   "outputs": [
    {
     "data": {
      "text/html": [
       "<div>\n",
       "<style scoped>\n",
       "    .dataframe tbody tr th:only-of-type {\n",
       "        vertical-align: middle;\n",
       "    }\n",
       "\n",
       "    .dataframe tbody tr th {\n",
       "        vertical-align: top;\n",
       "    }\n",
       "\n",
       "    .dataframe thead th {\n",
       "        text-align: right;\n",
       "    }\n",
       "</style>\n",
       "<table border=\"1\" class=\"dataframe\">\n",
       "  <thead>\n",
       "    <tr style=\"text-align: right;\">\n",
       "      <th></th>\n",
       "      <th>City</th>\n",
       "      <th>year</th>\n",
       "      <th>month</th>\n",
       "      <th>day</th>\n",
       "      <th>hour</th>\n",
       "      <th>mins</th>\n",
       "      <th>seconds</th>\n",
       "    </tr>\n",
       "  </thead>\n",
       "  <tbody>\n",
       "    <tr>\n",
       "      <th>0</th>\n",
       "      <td>8</td>\n",
       "      <td>2023</td>\n",
       "      <td>1</td>\n",
       "      <td>1</td>\n",
       "      <td>0</td>\n",
       "      <td>0</td>\n",
       "      <td>0</td>\n",
       "    </tr>\n",
       "    <tr>\n",
       "      <th>1</th>\n",
       "      <td>8</td>\n",
       "      <td>2023</td>\n",
       "      <td>1</td>\n",
       "      <td>1</td>\n",
       "      <td>4</td>\n",
       "      <td>0</td>\n",
       "      <td>0</td>\n",
       "    </tr>\n",
       "    <tr>\n",
       "      <th>2</th>\n",
       "      <td>8</td>\n",
       "      <td>2023</td>\n",
       "      <td>1</td>\n",
       "      <td>1</td>\n",
       "      <td>8</td>\n",
       "      <td>0</td>\n",
       "      <td>0</td>\n",
       "    </tr>\n",
       "    <tr>\n",
       "      <th>3</th>\n",
       "      <td>8</td>\n",
       "      <td>2023</td>\n",
       "      <td>1</td>\n",
       "      <td>1</td>\n",
       "      <td>12</td>\n",
       "      <td>0</td>\n",
       "      <td>0</td>\n",
       "    </tr>\n",
       "    <tr>\n",
       "      <th>4</th>\n",
       "      <td>8</td>\n",
       "      <td>2023</td>\n",
       "      <td>1</td>\n",
       "      <td>1</td>\n",
       "      <td>16</td>\n",
       "      <td>0</td>\n",
       "      <td>0</td>\n",
       "    </tr>\n",
       "  </tbody>\n",
       "</table>\n",
       "</div>"
      ],
      "text/plain": [
       "   City  year  month  day  hour  mins  seconds\n",
       "0     8  2023      1    1     0     0        0\n",
       "1     8  2023      1    1     4     0        0\n",
       "2     8  2023      1    1     8     0        0\n",
       "3     8  2023      1    1    12     0        0\n",
       "4     8  2023      1    1    16     0        0"
      ]
     },
     "execution_count": 190,
     "metadata": {},
     "output_type": "execute_result"
    }
   ],
   "source": [
    "df1_x=df1.drop(['Time Periods','PM2.5_Prediction','ID'],axis=1)\n",
    "df1_x.head()"
   ]
  },
  {
   "cell_type": "markdown",
   "id": "ed8612de",
   "metadata": {},
   "source": [
    "### Predicting the values using rfr model"
   ]
  },
  {
   "cell_type": "code",
   "execution_count": 191,
   "id": "8af60d30",
   "metadata": {},
   "outputs": [
    {
     "data": {
      "text/html": [
       "<div>\n",
       "<style scoped>\n",
       "    .dataframe tbody tr th:only-of-type {\n",
       "        vertical-align: middle;\n",
       "    }\n",
       "\n",
       "    .dataframe tbody tr th {\n",
       "        vertical-align: top;\n",
       "    }\n",
       "\n",
       "    .dataframe thead th {\n",
       "        text-align: right;\n",
       "    }\n",
       "</style>\n",
       "<table border=\"1\" class=\"dataframe\">\n",
       "  <thead>\n",
       "    <tr style=\"text-align: right;\">\n",
       "      <th></th>\n",
       "      <th>City</th>\n",
       "      <th>year</th>\n",
       "      <th>month</th>\n",
       "      <th>day</th>\n",
       "      <th>hour</th>\n",
       "      <th>mins</th>\n",
       "      <th>seconds</th>\n",
       "      <th>PM2.5_predicted</th>\n",
       "    </tr>\n",
       "  </thead>\n",
       "  <tbody>\n",
       "    <tr>\n",
       "      <th>0</th>\n",
       "      <td>8</td>\n",
       "      <td>2023</td>\n",
       "      <td>1</td>\n",
       "      <td>1</td>\n",
       "      <td>0</td>\n",
       "      <td>0</td>\n",
       "      <td>0</td>\n",
       "      <td>206.122461</td>\n",
       "    </tr>\n",
       "    <tr>\n",
       "      <th>1</th>\n",
       "      <td>8</td>\n",
       "      <td>2023</td>\n",
       "      <td>1</td>\n",
       "      <td>1</td>\n",
       "      <td>4</td>\n",
       "      <td>0</td>\n",
       "      <td>0</td>\n",
       "      <td>220.880497</td>\n",
       "    </tr>\n",
       "    <tr>\n",
       "      <th>2</th>\n",
       "      <td>8</td>\n",
       "      <td>2023</td>\n",
       "      <td>1</td>\n",
       "      <td>1</td>\n",
       "      <td>8</td>\n",
       "      <td>0</td>\n",
       "      <td>0</td>\n",
       "      <td>220.880497</td>\n",
       "    </tr>\n",
       "    <tr>\n",
       "      <th>3</th>\n",
       "      <td>8</td>\n",
       "      <td>2023</td>\n",
       "      <td>1</td>\n",
       "      <td>1</td>\n",
       "      <td>12</td>\n",
       "      <td>0</td>\n",
       "      <td>0</td>\n",
       "      <td>196.788971</td>\n",
       "    </tr>\n",
       "    <tr>\n",
       "      <th>4</th>\n",
       "      <td>8</td>\n",
       "      <td>2023</td>\n",
       "      <td>1</td>\n",
       "      <td>1</td>\n",
       "      <td>16</td>\n",
       "      <td>0</td>\n",
       "      <td>0</td>\n",
       "      <td>185.706661</td>\n",
       "    </tr>\n",
       "  </tbody>\n",
       "</table>\n",
       "</div>"
      ],
      "text/plain": [
       "   City  year  month  day  hour  mins  seconds  PM2.5_predicted\n",
       "0     8  2023      1    1     0     0        0       206.122461\n",
       "1     8  2023      1    1     4     0        0       220.880497\n",
       "2     8  2023      1    1     8     0        0       220.880497\n",
       "3     8  2023      1    1    12     0        0       196.788971\n",
       "4     8  2023      1    1    16     0        0       185.706661"
      ]
     },
     "execution_count": 191,
     "metadata": {},
     "output_type": "execute_result"
    }
   ],
   "source": [
    "pred = rfr.predict(df1_x)\n",
    "df1_x['PM2.5_predicted'] = pred\n",
    "\n",
    "df1_x.head()"
   ]
  },
  {
   "cell_type": "code",
   "execution_count": 192,
   "id": "ba383bd7",
   "metadata": {},
   "outputs": [],
   "source": [
    "from datetime import datetime,timedelta"
   ]
  },
  {
   "cell_type": "code",
   "execution_count": 193,
   "id": "2a1d47ed",
   "metadata": {},
   "outputs": [
    {
     "data": {
      "text/html": [
       "<div>\n",
       "<style scoped>\n",
       "    .dataframe tbody tr th:only-of-type {\n",
       "        vertical-align: middle;\n",
       "    }\n",
       "\n",
       "    .dataframe tbody tr th {\n",
       "        vertical-align: top;\n",
       "    }\n",
       "\n",
       "    .dataframe thead th {\n",
       "        text-align: right;\n",
       "    }\n",
       "</style>\n",
       "<table border=\"1\" class=\"dataframe\">\n",
       "  <thead>\n",
       "    <tr style=\"text-align: right;\">\n",
       "      <th></th>\n",
       "      <th>City</th>\n",
       "      <th>year</th>\n",
       "      <th>month</th>\n",
       "      <th>day</th>\n",
       "      <th>hour</th>\n",
       "      <th>mins</th>\n",
       "      <th>seconds</th>\n",
       "      <th>PM2.5_predicted</th>\n",
       "      <th>Time Periods</th>\n",
       "    </tr>\n",
       "  </thead>\n",
       "  <tbody>\n",
       "    <tr>\n",
       "      <th>0</th>\n",
       "      <td>Delhi</td>\n",
       "      <td>2023</td>\n",
       "      <td>1</td>\n",
       "      <td>1</td>\n",
       "      <td>0</td>\n",
       "      <td>0</td>\n",
       "      <td>0</td>\n",
       "      <td>206.122461</td>\n",
       "      <td>2023-01-01 00:00:00</td>\n",
       "    </tr>\n",
       "    <tr>\n",
       "      <th>1</th>\n",
       "      <td>Delhi</td>\n",
       "      <td>2023</td>\n",
       "      <td>1</td>\n",
       "      <td>1</td>\n",
       "      <td>4</td>\n",
       "      <td>0</td>\n",
       "      <td>0</td>\n",
       "      <td>220.880497</td>\n",
       "      <td>2023-01-01 04:00:00</td>\n",
       "    </tr>\n",
       "    <tr>\n",
       "      <th>2</th>\n",
       "      <td>Delhi</td>\n",
       "      <td>2023</td>\n",
       "      <td>1</td>\n",
       "      <td>1</td>\n",
       "      <td>8</td>\n",
       "      <td>0</td>\n",
       "      <td>0</td>\n",
       "      <td>220.880497</td>\n",
       "      <td>2023-01-01 08:00:00</td>\n",
       "    </tr>\n",
       "    <tr>\n",
       "      <th>3</th>\n",
       "      <td>Delhi</td>\n",
       "      <td>2023</td>\n",
       "      <td>1</td>\n",
       "      <td>1</td>\n",
       "      <td>12</td>\n",
       "      <td>0</td>\n",
       "      <td>0</td>\n",
       "      <td>196.788971</td>\n",
       "      <td>2023-01-01 12:00:00</td>\n",
       "    </tr>\n",
       "    <tr>\n",
       "      <th>4</th>\n",
       "      <td>Delhi</td>\n",
       "      <td>2023</td>\n",
       "      <td>1</td>\n",
       "      <td>1</td>\n",
       "      <td>16</td>\n",
       "      <td>0</td>\n",
       "      <td>0</td>\n",
       "      <td>185.706661</td>\n",
       "      <td>2023-01-01 16:00:00</td>\n",
       "    </tr>\n",
       "  </tbody>\n",
       "</table>\n",
       "</div>"
      ],
      "text/plain": [
       "    City  year  month  day  hour  mins  seconds  PM2.5_predicted  \\\n",
       "0  Delhi  2023      1    1     0     0        0       206.122461   \n",
       "1  Delhi  2023      1    1     4     0        0       220.880497   \n",
       "2  Delhi  2023      1    1     8     0        0       220.880497   \n",
       "3  Delhi  2023      1    1    12     0        0       196.788971   \n",
       "4  Delhi  2023      1    1    16     0        0       185.706661   \n",
       "\n",
       "         Time Periods  \n",
       "0 2023-01-01 00:00:00  \n",
       "1 2023-01-01 04:00:00  \n",
       "2 2023-01-01 08:00:00  \n",
       "3 2023-01-01 12:00:00  \n",
       "4 2023-01-01 16:00:00  "
      ]
     },
     "execution_count": 193,
     "metadata": {},
     "output_type": "execute_result"
    }
   ],
   "source": [
    "df1_x['City']=le.inverse_transform(df1_x['City'])\n",
    "df1_x['Time Periods']=pd.to_datetime(df1_x[['year','month','day','hour']])\n",
    "df1_x.head()"
   ]
  },
  {
   "cell_type": "code",
   "execution_count": 203,
   "id": "f85a6359",
   "metadata": {},
   "outputs": [
    {
     "data": {
      "text/html": [
       "<div>\n",
       "<style scoped>\n",
       "    .dataframe tbody tr th:only-of-type {\n",
       "        vertical-align: middle;\n",
       "    }\n",
       "\n",
       "    .dataframe tbody tr th {\n",
       "        vertical-align: top;\n",
       "    }\n",
       "\n",
       "    .dataframe thead th {\n",
       "        text-align: right;\n",
       "    }\n",
       "</style>\n",
       "<table border=\"1\" class=\"dataframe\">\n",
       "  <thead>\n",
       "    <tr style=\"text-align: right;\">\n",
       "      <th></th>\n",
       "      <th>City</th>\n",
       "      <th>Time Periods</th>\n",
       "      <th>PM2.5_predicted</th>\n",
       "    </tr>\n",
       "  </thead>\n",
       "  <tbody>\n",
       "    <tr>\n",
       "      <th>0</th>\n",
       "      <td>Delhi</td>\n",
       "      <td>2023-01-01 00:00:00</td>\n",
       "      <td>206.122461</td>\n",
       "    </tr>\n",
       "    <tr>\n",
       "      <th>1</th>\n",
       "      <td>Delhi</td>\n",
       "      <td>2023-01-01 04:00:00</td>\n",
       "      <td>220.880497</td>\n",
       "    </tr>\n",
       "    <tr>\n",
       "      <th>2</th>\n",
       "      <td>Delhi</td>\n",
       "      <td>2023-01-01 08:00:00</td>\n",
       "      <td>220.880497</td>\n",
       "    </tr>\n",
       "    <tr>\n",
       "      <th>3</th>\n",
       "      <td>Delhi</td>\n",
       "      <td>2023-01-01 12:00:00</td>\n",
       "      <td>196.788971</td>\n",
       "    </tr>\n",
       "    <tr>\n",
       "      <th>4</th>\n",
       "      <td>Delhi</td>\n",
       "      <td>2023-01-01 16:00:00</td>\n",
       "      <td>185.706661</td>\n",
       "    </tr>\n",
       "  </tbody>\n",
       "</table>\n",
       "</div>"
      ],
      "text/plain": [
       "    City        Time Periods  PM2.5_predicted\n",
       "0  Delhi 2023-01-01 00:00:00       206.122461\n",
       "1  Delhi 2023-01-01 04:00:00       220.880497\n",
       "2  Delhi 2023-01-01 08:00:00       220.880497\n",
       "3  Delhi 2023-01-01 12:00:00       196.788971\n",
       "4  Delhi 2023-01-01 16:00:00       185.706661"
      ]
     },
     "execution_count": 203,
     "metadata": {},
     "output_type": "execute_result"
    }
   ],
   "source": [
    "final_file=df1_x.drop(['year','month','day','hour','mins','seconds'],axis=1)\n",
    "final_file=final_file[['City','Time Periods','PM2.5_predicted']]\n",
    "final_file.head()"
   ]
  },
  {
   "cell_type": "code",
   "execution_count": 204,
   "id": "02217371",
   "metadata": {
    "scrolled": true
   },
   "outputs": [],
   "source": [
    "final_file.to_excel(' lokhandeabhishek2002@gmail.com_round1a.xlsx', index=False)"
   ]
  },
  {
   "cell_type": "markdown",
   "id": "95322c54",
   "metadata": {},
   "source": [
    "# Summary"
   ]
  },
  {
   "cell_type": "markdown",
   "id": "db4fabc7",
   "metadata": {},
   "source": [
    "- Collected the database of PM2.5 concentartion and also other variables of 34 cities of India from the past three years.\n",
    "- Perform Explortary data analysis on it\n",
    "- Evaluated Null values with mean of the data\n",
    "- Removed the columns that contain more number of null values.\n",
    "- Converted Time Period from string datatype to datetime and extracted month,year,day etc.\n",
    "- Perform Data Visualisation \n",
    "- From the bar chart we can conclude that 'Delhi' and 'Chandigrah' are the two cities having higher amount of PM2.5 concentration\n",
    "- Agra city was recorded with maximum PM2.5 conc. over the past 3 years\n",
    "- There has been general trend seen over the last 3 years that January Month has been noted as having highest PM2.5 conc and July has been noted as Lowest PM2.5 Conc.\n",
    "- Perform Feature Engineering\n",
    "- Converted categorical value to the cardinal value\n",
    "- Standarize the scale to appropriate scale, but this doesn't have much impact on accuracy of model so neglected\n",
    "- Detection of the outlier value using Z Score method\n",
    "- Perform Machine learning model\n",
    "- Random Forest Regressor with score of 86%\n",
    "- Linear Regression with score of 0.3%\n",
    "- Decission Tree Regressor with score of 79%\n",
    "- Most Efficient model was RFR, so preferred RFR model to predict the future values\n",
    "- Predicted the values that was provided in Questionarrie template\n",
    "\n",
    "\n"
   ]
  },
  {
   "cell_type": "markdown",
   "id": "60d1412f",
   "metadata": {},
   "source": [
    "# Info about PM2.5"
   ]
  },
  {
   "cell_type": "markdown",
   "id": "84bfd31e",
   "metadata": {},
   "source": [
    "- PM2.5 refers to atmospheric particulate matter (PM) that have a diameter of less than 2.5 micrometers, which is about 3% the diameter of a human hair.Fine particles can come from various sources. They include power plants, motor vehicles, airplanes, residential wood burning, forest fires, agricultural burning, volcanic eruptions and dust storms.Some are emitted directly into the air, while others are formed when gases and particles interact with one another in the atmosphere.For instance, gaseous sulfur dioxide emitted from power plants reacts with oxygen and water droplets in the air to form sulfuric acid as a secondary particle"
   ]
  },
  {
   "cell_type": "markdown",
   "id": "17d44a3e",
   "metadata": {},
   "source": [
    "### Why Are PM2.5 Dangerous?"
   ]
  },
  {
   "cell_type": "markdown",
   "id": "27020463",
   "metadata": {},
   "source": [
    "- since they are so small and light, fine particles tend to stay longer in the air than heavier particles. This increases the chances of humans and animals inhaling them into the bodies. Owing to their minute size, particles smaller than 2.5 micrometers are able to bypass the nose and throat and penetrate deep into the lungs and some may even enter the circulatory system.\n",
    "\n",
    "- Studies have found a close link between exposure to fine particles and premature death from heart and lung disease. Fine particles are also known to trigger or worsen chronic disease such as asthma, heart attack, bronchitis and other respiratory problems."
   ]
  },
  {
   "cell_type": "markdown",
   "id": "42764bb5",
   "metadata": {},
   "source": [
    "### How to Read PM2.5 Readings?"
   ]
  },
  {
   "cell_type": "markdown",
   "id": "2eca7618",
   "metadata": {},
   "source": [
    "- Due to the many adverse effects fine particles can inflict on a large number of people, PM2.5 is one of the major pollutants closely monitored by health authorities around the world. You will most likely come across a dedicated column for PM2.5 alongside the Air Quality Index (AQI), Pollutants Standards Index (PSI) or the air quality standards adopted by your country.\n",
    "\n",
    "- On a very clear and non-hazy day, the PM2.5 concentration can be as low as 5 μg/m3 or below. The 24-hour concentration of PM2.5 is considered unhealthy when it rises above 35.4 μg/m3."
   ]
  },
  {
   "cell_type": "markdown",
   "id": "1fcbe9e2",
   "metadata": {},
   "source": [
    "### How to Protect Yourself Against PM2.5?"
   ]
  },
  {
   "cell_type": "markdown",
   "id": "ceb0c3bd",
   "metadata": {},
   "source": [
    "- Stay indoor and close all windows and openings that allow polluted air to enter, when possible.\n",
    "- Turn on an air purifier that is equipped with a HEPA filter. Only a HEPA filter can effectively remove fine particles from the air.\n",
    "- Most air filters in air conditioners are not HEPA filters as the latter will reduce air intake and would require the motor to work harder to push / pull air through. But an air conditioner is still helpful when fresh air intake is limited as it helps to circulate air and cool down (or warm up) room temperature.\n",
    "- When most or all windows are closed, do not burn candle, incense or operate devices that emit smoke or gas to prevent harmful particles and gas (such as carbon monoxide) from building up.\n",
    "- If you are a road warrior who must drive in all weather conditions, get a real air purifier for your car that comes with at least HEPA and activated carbon filters. A normal car filter can’t even remove traffic exhaust properly, let alone microscopic particles."
   ]
  }
 ],
 "metadata": {
  "kernelspec": {
   "display_name": "Python 3 (ipykernel)",
   "language": "python",
   "name": "python3"
  },
  "language_info": {
   "codemirror_mode": {
    "name": "ipython",
    "version": 3
   },
   "file_extension": ".py",
   "mimetype": "text/x-python",
   "name": "python",
   "nbconvert_exporter": "python",
   "pygments_lexer": "ipython3",
   "version": "3.9.4"
  }
 },
 "nbformat": 4,
 "nbformat_minor": 5
}
